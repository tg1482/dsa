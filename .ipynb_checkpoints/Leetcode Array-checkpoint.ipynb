{
 "cells": [
  {
   "cell_type": "code",
   "execution_count": 1,
   "id": "54adf5a0-c5b4-408f-8ace-95d20ac1a786",
   "metadata": {},
   "outputs": [],
   "source": [
    "import numpy as np"
   ]
  },
  {
   "cell_type": "markdown",
   "id": "65837a48-0945-44cb-bd2f-7367652fee22",
   "metadata": {},
   "source": [
    "# Arrays"
   ]
  },
  {
   "cell_type": "markdown",
   "id": "d7498f87-bd1a-47de-9070-524b44170248",
   "metadata": {},
   "source": [
    "### Given a binary array, find the maximum number of consecutive 1s in this array."
   ]
  },
  {
   "cell_type": "code",
   "execution_count": 14,
   "id": "eecc6a39-b926-4ae6-8419-56b9b764c286",
   "metadata": {},
   "outputs": [],
   "source": [
    "def array_1s(array):\n",
    "    if np.sum(array) == 0:\n",
    "        return 0\n",
    "    array1 = array[1:]\n",
    "    array2 = array[:-1]\n",
    "    return np.sum(np.dot(array1,array2))+1"
   ]
  },
  {
   "cell_type": "code",
   "execution_count": 21,
   "id": "e4273ae8-ec3a-4772-bf0e-3c19f5b0ac95",
   "metadata": {},
   "outputs": [],
   "source": [
    "def array_1s(array):\n",
    "    count = 0\n",
    "    result = 0\n",
    "    \n",
    "    for i in array:\n",
    "        if i == 0:\n",
    "            count = 0\n",
    "        else:\n",
    "            count +=1\n",
    "            result = max(result, count)\n",
    "    return result"
   ]
  },
  {
   "cell_type": "code",
   "execution_count": 22,
   "id": "30c5ea81-4918-4ef2-ac53-20eeddfcccbf",
   "metadata": {},
   "outputs": [
    {
     "data": {
      "text/plain": [
       "0"
      ]
     },
     "execution_count": 22,
     "metadata": {},
     "output_type": "execute_result"
    }
   ],
   "source": [
    "array_1s([0,0,0])"
   ]
  },
  {
   "cell_type": "code",
   "execution_count": 23,
   "id": "c28ccf26-e5c6-4f21-bc86-732f47b24342",
   "metadata": {},
   "outputs": [
    {
     "data": {
      "text/plain": [
       "2"
      ]
     },
     "execution_count": 23,
     "metadata": {},
     "output_type": "execute_result"
    }
   ],
   "source": [
    "array_1s([1,0,0,1,1])"
   ]
  },
  {
   "cell_type": "code",
   "execution_count": 24,
   "id": "b5c298e3-76ea-4ec9-8ece-218545f4ea00",
   "metadata": {},
   "outputs": [
    {
     "data": {
      "text/plain": [
       "4"
      ]
     },
     "execution_count": 24,
     "metadata": {},
     "output_type": "execute_result"
    }
   ],
   "source": [
    "array_1s([1,0,0,1,1,0,1,1,1,1])"
   ]
  },
  {
   "cell_type": "markdown",
   "id": "705c52cc-ff9d-4e4f-ba88-8f9cab27a912",
   "metadata": {},
   "source": [
    "### Given an array nums of integers, return how many of them contain an even number of digits."
   ]
  },
  {
   "cell_type": "code",
   "execution_count": 38,
   "id": "562931fd-d0f2-47a1-b76c-60f1e8c14aef",
   "metadata": {},
   "outputs": [],
   "source": [
    "def even_digits(array):\n",
    "    assert len(array)<=500\n",
    "    assert np.max(array)<10e5\n",
    "    digits = []\n",
    "    for num in array:\n",
    "        i = num\n",
    "        count = 0\n",
    "        while i > 0:\n",
    "            i = i // 10\n",
    "            count+=1\n",
    "        if count%2==0:\n",
    "            digits.append(num)\n",
    "    return len(digits)\n",
    "    "
   ]
  },
  {
   "cell_type": "code",
   "execution_count": 46,
   "id": "738d3c66-56a4-48ee-bfc3-bce342d35f42",
   "metadata": {},
   "outputs": [
    {
     "data": {
      "text/plain": [
       "[50]"
      ]
     },
     "execution_count": 46,
     "metadata": {},
     "output_type": "execute_result"
    }
   ],
   "source": [
    "even_digits([50,5,3000560])"
   ]
  },
  {
   "cell_type": "markdown",
   "id": "04afe48a-9e51-4502-90f9-6e77ce790d77",
   "metadata": {},
   "source": [
    "### Given an integer array nums sorted in non-decreasing order, return an array of the squares of each number sorted in non-decreasing order."
   ]
  },
  {
   "cell_type": "code",
   "execution_count": 97,
   "id": "b3984512-b03a-4561-b058-05eb93750376",
   "metadata": {},
   "outputs": [],
   "source": [
    "def sortedSquares(nums):\n",
    "    if len(nums)<=1:\n",
    "        return [i**2 for i in nums]\n",
    "    arr1 = []\n",
    "    arr2 = []\n",
    "    for num in nums:\n",
    "        if num >= 0:\n",
    "            arr1.append(num**2)\n",
    "    for num in nums:\n",
    "        if num < 0:\n",
    "            arr2.append(num**2)\n",
    "            \n",
    "    if len(arr1)==0:\n",
    "        return arr2\n",
    "    if len(arr2)==0:\n",
    "        return arr1\n",
    "\n",
    "    arr2 = arr2[::-1]\n",
    "\n",
    "    new_arr = []\n",
    "    counter1 = 0\n",
    "    counter2 = 0\n",
    "    \n",
    "    for i in range(len(nums)):\n",
    "        if arr1[counter1] <= arr2[counter2]:\n",
    "            new_arr.append(arr1[counter1])\n",
    "            if counter1 == len(arr1)-1:\n",
    "                new_arr.extend(arr2[counter2:])\n",
    "                break\n",
    "            counter1+=1\n",
    "        else:\n",
    "            new_arr.append(arr2[counter2])\n",
    "            if counter2 == len(arr2)-1:\n",
    "                new_arr.extend(arr1[counter1:])\n",
    "                break\n",
    "            counter2+=1\n",
    "    return new_arr"
   ]
  },
  {
   "cell_type": "code",
   "execution_count": 98,
   "id": "6d8b7a91-6ef3-42e8-8a21-4e3af1a45990",
   "metadata": {},
   "outputs": [
    {
     "data": {
      "text/plain": [
       "[0, 1, 4, 16, 36, 100]"
      ]
     },
     "execution_count": 98,
     "metadata": {},
     "output_type": "execute_result"
    }
   ],
   "source": [
    "sortedSquares([-4, -2, 0, 1, 6, 10])"
   ]
  },
  {
   "cell_type": "code",
   "execution_count": 74,
   "id": "e620765e-55b1-47f5-b0f8-b7992406b3c6",
   "metadata": {},
   "outputs": [],
   "source": [
    "ar1=[0,1,9]"
   ]
  },
  {
   "cell_type": "code",
   "execution_count": 70,
   "id": "910652e5-cacb-479a-8e4e-a84832bc0a9f",
   "metadata": {},
   "outputs": [
    {
     "data": {
      "text/plain": [
       "[9, 1, 0]"
      ]
     },
     "execution_count": 70,
     "metadata": {},
     "output_type": "execute_result"
    }
   ],
   "source": [
    "ar1[::-1]"
   ]
  },
  {
   "cell_type": "markdown",
   "id": "4500647a-c5b4-46c2-a674-6ee9a81a79ba",
   "metadata": {},
   "source": [
    "### Given a fixed length array arr of integers, duplicate each occurrence of zero, shifting the remaining elements to the right.\n",
    "\n",
    "### Note that elements beyond the length of the original array are not written.\n",
    "\n",
    "### Do the above modifications to the input array in place, do not return anything from your function."
   ]
  },
  {
   "cell_type": "code",
   "execution_count": 104,
   "id": "839c031b-e0fb-47ab-8a73-5332b1a248ac",
   "metadata": {},
   "outputs": [],
   "source": [
    "def double_or_nothing(arr):\n",
    "    if sum(arr)==0:\n",
    "        return\n",
    "    len_arr = len(arr)\n",
    "    i = 0\n",
    "    while i < len_arr-1:\n",
    "        if arr[i]==0:\n",
    "            arr[i+2:len_arr] = arr[i+1:len_arr-1]\n",
    "            arr[i+1] = 0\n",
    "            i+=2\n",
    "            continue\n",
    "        i+=1\n",
    "    print(arr)"
   ]
  },
  {
   "cell_type": "code",
   "execution_count": 105,
   "id": "f59321ca-b2b3-4461-b18b-f69b2163fde6",
   "metadata": {},
   "outputs": [
    {
     "name": "stdout",
     "output_type": "stream",
     "text": [
      "[8, 4, 5, 0, 0, 0, 0, 0]\n"
     ]
    }
   ],
   "source": [
    "double_or_nothing([8,4,5,0,0,0,0,7])"
   ]
  },
  {
   "cell_type": "markdown",
   "id": "1220c276-ae50-4e78-83bd-a8c8a17d7296",
   "metadata": {},
   "source": [
    "### You are given two integer arrays nums1 and nums2, sorted in non-decreasing order, and two integers m and n, representing the number of elements in nums1 and nums2 respectively."
   ]
  },
  {
   "cell_type": "code",
   "execution_count": 145,
   "id": "f8a5ef7f-4212-4b13-9c41-360eff42e65c",
   "metadata": {},
   "outputs": [],
   "source": [
    "def merge_sorted(num1, m, num2, n):\n",
    "    arr1 = num1[:m]\n",
    "    \n",
    "    counter1 = 0\n",
    "    counter2 = 0\n",
    "    \n",
    "    if sum(num1) == 0:\n",
    "        num1[:m+n] = num2[:n]\n",
    "        print(num1)\n",
    "        return\n",
    "    \n",
    "    if len(num2)==0:\n",
    "        return\n",
    "        \n",
    "    for i in range(m+n-1):\n",
    "        if arr1[counter1] <= num2[counter2]:\n",
    "            num1[i] = arr1[counter1]\n",
    "            counter1+=1\n",
    "            if counter1 == m:\n",
    "                num1[i+1:] = num2[counter2:]\n",
    "                print(num1)\n",
    "                break\n",
    "        else:\n",
    "            num1[i] = num2[counter2]\n",
    "            counter2+=1\n",
    "            if counter2 == n:\n",
    "                num1[i+1:] = arr1[counter1:]\n",
    "                print(num1)\n",
    "                break\n",
    "        print(num1)"
   ]
  },
  {
   "cell_type": "code",
   "execution_count": null,
   "id": "f466a9cd-e316-4f40-adac-f65af57edf5e",
   "metadata": {},
   "outputs": [],
   "source": [
    "def merge(nums1: List[int], m: int, nums2: List[int], n: int) -> None:\n",
    "        \"\"\"\n",
    "        Do not return anything, modify nums1 in-place instead.\n",
    "        \"\"\"\n",
    "        # Make a copy of the first m elements of nums1.\n",
    "        nums1_copy = nums1[:m] \n",
    "        \n",
    "        # Read pointers for nums1Copy and nums2 respectively.\n",
    "        p1 = 0\n",
    "        p2 = 0\n",
    "        \n",
    "        # Compare elements from nums1Copy and nums2 and write the smallest to nums1.\n",
    "        for p in range(n + m):\n",
    "            # We also need to ensure that p1 and p2 aren't over the boundaries\n",
    "            # of their respective arrays.\n",
    "            if p2 >= n or (p1 < m and nums1_copy[p1] <= nums2[p2]):\n",
    "                nums1[p] = nums1_copy[p1] \n",
    "                p1 += 1\n",
    "            else:\n",
    "                nums1[p] = nums2[p2]\n",
    "                p2 += 1"
   ]
  },
  {
   "cell_type": "code",
   "execution_count": 146,
   "id": "936835d4-5d92-468d-9525-5bf3f79125e7",
   "metadata": {},
   "outputs": [
    {
     "name": "stdout",
     "output_type": "stream",
     "text": [
      "[-1, 0, 1, 1, 2, 3]\n"
     ]
    }
   ],
   "source": [
    "# num1=[1, 2, 3, 4, 5]\n",
    "# num2=[]\n",
    "# m=5\n",
    "# n=0\n",
    "\n",
    "num1=[-1,1,0,0,0,0,0,0]\n",
    "m=2\n",
    "num2=[-1,0,1,1,2,3]\n",
    "n=6\n",
    "\n",
    "merge_sorted(num1, m, num2, n)"
   ]
  },
  {
   "cell_type": "code",
   "execution_count": 122,
   "id": "2a4633fb-20fc-4ccb-ae30-977f8a0e101d",
   "metadata": {},
   "outputs": [],
   "source": [
    "num1=[1,2,3,0,0,0]\n",
    "num2=[2,5,6]\n",
    "m=3\n",
    "n=3"
   ]
  },
  {
   "cell_type": "code",
   "execution_count": 19,
   "id": "4df05a32-5ab3-4215-9e04-b02102c4ebf1",
   "metadata": {},
   "outputs": [
    {
     "data": {
      "text/plain": [
       "[1, 2, 3]"
      ]
     },
     "execution_count": 19,
     "metadata": {},
     "output_type": "execute_result"
    }
   ],
   "source": [
    "num1[:3]"
   ]
  },
  {
   "cell_type": "code",
   "execution_count": 69,
   "id": "0a4b819a-0cdf-4c80-a2ea-ad2e5c9cde6a",
   "metadata": {},
   "outputs": [
    {
     "data": {
      "text/plain": [
       "[6]"
      ]
     },
     "execution_count": 69,
     "metadata": {},
     "output_type": "execute_result"
    }
   ],
   "source": [
    "num2[2:3]"
   ]
  },
  {
   "cell_type": "markdown",
   "id": "2438824a-f6cc-4cfc-b842-b7d660dd625f",
   "metadata": {},
   "source": [
    "### Remove Element"
   ]
  },
  {
   "cell_type": "code",
   "execution_count": 168,
   "id": "0e8d0f4e-0a64-4a83-8899-608f7fdd98e8",
   "metadata": {},
   "outputs": [],
   "source": [
    "def remove_num_from_arr(arr, num):\n",
    "    len_arr = len(arr)\n",
    "    i = 0\n",
    "    while i <= len_arr-1:\n",
    "        if arr[i] == num:\n",
    "            arr[i:len_arr-1] = arr[i+1:len_arr]\n",
    "            del arr[-1]\n",
    "            len_arr-=1\n",
    "        else:\n",
    "            i+=1\n",
    "    return len(arr)"
   ]
  },
  {
   "cell_type": "code",
   "execution_count": 169,
   "id": "c26067c7-80b2-4423-9ae6-1617557ee7ed",
   "metadata": {},
   "outputs": [
    {
     "data": {
      "text/plain": [
       "3"
      ]
     },
     "execution_count": 169,
     "metadata": {},
     "output_type": "execute_result"
    }
   ],
   "source": [
    "remove_num_from_arr([2, 2, 3, 4, 5], 2)"
   ]
  },
  {
   "cell_type": "markdown",
   "id": "5c7b0eb9-4e94-4534-9350-26c3303282dd",
   "metadata": {},
   "source": [
    "### Deleting Duplicates"
   ]
  },
  {
   "cell_type": "code",
   "execution_count": 38,
   "id": "7fcb4d8a-edb8-4d52-90b1-1c17be6f91b8",
   "metadata": {},
   "outputs": [],
   "source": [
    "def remove_duplicates(arr):\n",
    "    len_arr = len(arr)\n",
    "    i = 1\n",
    "    if len(arr)==0:\n",
    "        return\n",
    "    last_element = arr[0]\n",
    "    while i < len_arr:\n",
    "        if arr[i] == last_element:\n",
    "            arr[i:len_arr-1] = arr[i+1:len_arr]\n",
    "            del arr[-1]\n",
    "            len_arr-=1\n",
    "        else:\n",
    "            last_element = arr[i]\n",
    "            i+=1\n",
    "    return len(arr)\n"
   ]
  },
  {
   "cell_type": "code",
   "execution_count": 43,
   "id": "224d55b9-ff20-4ffc-885f-5bb51297113f",
   "metadata": {},
   "outputs": [
    {
     "name": "stdout",
     "output_type": "stream",
     "text": [
      "[0, 11, 12]\n"
     ]
    }
   ],
   "source": [
    "arr = [0,0,11,12]\n",
    "remove_duplicates(arr)"
   ]
  },
  {
   "cell_type": "markdown",
   "id": "a18b7eaa-a19f-4b49-bdab-971c25a34aa5",
   "metadata": {},
   "source": [
    "### Check if Double"
   ]
  },
  {
   "cell_type": "code",
   "execution_count": 57,
   "id": "cda8eb3d-1aff-4cd4-8b49-35d2177725f8",
   "metadata": {},
   "outputs": [],
   "source": [
    "def check_if_double(arr):\n",
    "    doubles = []\n",
    "    counter=0\n",
    "    for i in arr:\n",
    "        if i == 0:\n",
    "            counter+=1\n",
    "    if counter > 1:\n",
    "        return True\n",
    "    for i in arr:\n",
    "        if i%2==0 and i!=0:\n",
    "            doubles.append(i/2)\n",
    "    for i in doubles:\n",
    "        if i in arr:\n",
    "            return True"
   ]
  },
  {
   "cell_type": "code",
   "execution_count": 72,
   "id": "72f9e6f4-0918-4403-a656-c150339502d1",
   "metadata": {},
   "outputs": [],
   "source": [
    "def checkIfExist(arr):\n",
    "\n",
    "    #the rqd double can only be an even number.\n",
    "    #so for an even number check at di[number//2]\n",
    "    di={}\n",
    "    for x in arr:\n",
    "        di[x]=di.get(x,0)+1\n",
    "\n",
    "    for k,v in di.items():\n",
    "        if k!=0 and k%2==0 and di.get(k//2,0)>0:\n",
    "            return True\n",
    "        elif k==0 and di.get(k)>1:\n",
    "            return True\n",
    "    return False"
   ]
  },
  {
   "cell_type": "code",
   "execution_count": 59,
   "id": "75c35e6e-82ed-40d6-bed0-27121102defc",
   "metadata": {},
   "outputs": [],
   "source": [
    "check_if_double([0,0,1])"
   ]
  },
  {
   "cell_type": "code",
   "execution_count": 73,
   "id": "94f8c1e3-452c-40a1-8563-7547f5e1ee54",
   "metadata": {},
   "outputs": [
    {
     "data": {
      "text/plain": [
       "True"
      ]
     },
     "execution_count": 73,
     "metadata": {},
     "output_type": "execute_result"
    }
   ],
   "source": [
    "checkIfExist([0,0,2,3,5,8])"
   ]
  },
  {
   "cell_type": "markdown",
   "id": "d3c7bfef-fa10-4abe-b861-a376540b159d",
   "metadata": {},
   "source": [
    "### Mountain Array"
   ]
  },
  {
   "cell_type": "code",
   "execution_count": 62,
   "id": "8263b8f2-9f03-4286-9ed7-224cc67987fe",
   "metadata": {},
   "outputs": [],
   "source": [
    "def valid_mountain_array(arr):\n",
    "    max_element = max(arr)\n",
    "    arr_len = len(arr)\n",
    "    \n",
    "    for i in range(arr_len):\n",
    "        if arr[i]==max_element:\n",
    "            ind_max = i\n",
    "            break\n",
    "    \n",
    "    if i == 0:\n",
    "        return False\n",
    "    \n",
    "    min_element = arr[0]\n",
    "    for i in range(1, ind_max):\n",
    "        if arr[i] > min_element:\n",
    "            min_element = arr[i]\n",
    "        else:\n",
    "            return False\n",
    "    \n",
    "    if ind_max == arr_len-1:\n",
    "        return False\n",
    "    \n",
    "    for i in range(ind_max+1, arr_len):\n",
    "        if arr[i] < max_element:\n",
    "            max_element = arr[i]\n",
    "        else:\n",
    "            return False\n",
    "\n",
    "    return True\n",
    "        "
   ]
  },
  {
   "cell_type": "code",
   "execution_count": 63,
   "id": "6ad2a2ba-1a23-4c76-81c0-b4e8fd9a8dd9",
   "metadata": {},
   "outputs": [],
   "source": [
    "arr = [0,1,2,1]"
   ]
  },
  {
   "cell_type": "code",
   "execution_count": 64,
   "id": "f5e91c00-04a0-43d2-871c-a743eb86650f",
   "metadata": {},
   "outputs": [
    {
     "name": "stdout",
     "output_type": "stream",
     "text": [
      "1\n",
      "1\n"
     ]
    },
    {
     "data": {
      "text/plain": [
       "False"
      ]
     },
     "execution_count": 64,
     "metadata": {},
     "output_type": "execute_result"
    }
   ],
   "source": [
    "valid_mountain_array(arr)"
   ]
  },
  {
   "cell_type": "markdown",
   "id": "37ec53dc-c3ee-4dbb-a90b-86c80724c8f5",
   "metadata": {},
   "source": [
    "### INPLACE = Replace Elements with Greatest Element on Right Side"
   ]
  },
  {
   "cell_type": "code",
   "execution_count": 67,
   "id": "32a19c41-caab-482f-9b95-757ae46f0a86",
   "metadata": {},
   "outputs": [],
   "source": [
    "def greatest_element_right(arr):\n",
    "    if len(arr) == 0:\n",
    "        return\n",
    "    if len(arr) == 1:\n",
    "        return [-1]\n",
    "    \n",
    "    len_arr = len(arr)\n",
    "    \n",
    "    for i in range(len_arr-1):\n",
    "        arr[i] = max(arr[i+1:])\n",
    "    \n",
    "    arr[-1] = -1\n",
    "    return arr"
   ]
  },
  {
   "cell_type": "code",
   "execution_count": 68,
   "id": "542c891c-da62-4d69-8dbc-e8f43f049b28",
   "metadata": {},
   "outputs": [
    {
     "name": "stdout",
     "output_type": "stream",
     "text": [
      "[18, 6, 6, 6, 1, -1]\n"
     ]
    }
   ],
   "source": [
    "arr=[17,18,5,4,6,1]\n",
    "greatest_element_right(arr)"
   ]
  },
  {
   "cell_type": "markdown",
   "id": "5bfe2e68-e382-47a0-8cc5-9f058a0341ad",
   "metadata": {},
   "source": [
    "### INPLACE Move Zeros"
   ]
  },
  {
   "cell_type": "code",
   "execution_count": 11,
   "id": "df8624d0-1cf0-47f7-929a-650fdbe69cbd",
   "metadata": {},
   "outputs": [],
   "source": [
    "def move_zeros(arr):\n",
    "    len_arr = len(arr)\n",
    "    i = 0\n",
    "    while i < len_arr:\n",
    "        if arr[i] == 0:\n",
    "            arr[i:len_arr-1] = arr[i+1:len_arr]\n",
    "            arr[len_arr-1] = 0\n",
    "            len_arr -= 1\n",
    "        else:\n",
    "            i+=1\n",
    "    return arr\n",
    "    "
   ]
  },
  {
   "cell_type": "code",
   "execution_count": 19,
   "id": "eae2d80f-2ff4-464b-8689-3fdbd0bd0c94",
   "metadata": {},
   "outputs": [],
   "source": [
    "def move_zeros_swap(arr):\n",
    "    len_arr = len(arr)\n",
    "    pos = 0\n",
    "    for i in range(len_arr):\n",
    "        if arr[i] != 0:\n",
    "            arr[pos], arr[i] = arr[i], arr[pos]\n",
    "            pos+=1\n",
    "    print(arr)"
   ]
  },
  {
   "cell_type": "code",
   "execution_count": 12,
   "id": "0d141987-ac49-4340-a312-ddb901590f6d",
   "metadata": {},
   "outputs": [
    {
     "data": {
      "text/plain": [
       "[5, 6, 0, 0]"
      ]
     },
     "execution_count": 12,
     "metadata": {},
     "output_type": "execute_result"
    }
   ],
   "source": [
    "arr = [0,5,6,0]\n",
    "move_zeros(arr)"
   ]
  },
  {
   "cell_type": "code",
   "execution_count": 20,
   "id": "ea8ea696-0722-48ab-a470-a5fd54f96aa8",
   "metadata": {},
   "outputs": [
    {
     "name": "stdout",
     "output_type": "stream",
     "text": [
      "[5, 6, 0, 0]\n"
     ]
    }
   ],
   "source": [
    "move_zeros_swap(arr)"
   ]
  },
  {
   "cell_type": "markdown",
   "id": "78e00994-5135-4894-9077-809bc8c0c79f",
   "metadata": {},
   "source": [
    "### Sort Array By Parity"
   ]
  },
  {
   "cell_type": "code",
   "execution_count": 14,
   "id": "219b5b6c-6d7a-4c98-bdc2-4722fd08ce3a",
   "metadata": {},
   "outputs": [],
   "source": [
    "def sort_by_parity(arr):\n",
    "    len_arr = len(arr)\n",
    "    pos = 0\n",
    "    for i in range(len_arr):\n",
    "        if arr[i] % 2 == 0:\n",
    "            arr[pos], arr[i] = arr[i], arr[pos]\n",
    "            pos+=1"
   ]
  },
  {
   "cell_type": "code",
   "execution_count": 18,
   "id": "7c0ef257-aeab-4082-8dd6-e1524c6a3406",
   "metadata": {},
   "outputs": [
    {
     "name": "stdout",
     "output_type": "stream",
     "text": [
      "[6, 8, 12, 0, 9, 7, 5]\n"
     ]
    }
   ],
   "source": [
    "sort_by_parity([5,6,7,8,9,12,0])"
   ]
  },
  {
   "cell_type": "markdown",
   "id": "131d5ffd-06c0-41eb-8ab2-fd25c3f10002",
   "metadata": {},
   "source": [
    "### Expected Array Checker - Height Checker"
   ]
  },
  {
   "cell_type": "code",
   "execution_count": 9,
   "id": "bf15fc58-2a73-4de5-bdb5-93b8d91fab2d",
   "metadata": {},
   "outputs": [],
   "source": [
    "def expected_array_checker(arr):\n",
    "    len_arr = len(arr)\n",
    "    sorted_arr = sorted(arr)\n",
    "    counter = 0\n",
    "    for i in range(len_arr):\n",
    "        if arr[i] != sorted_arr[i]:\n",
    "            counter+=1\n",
    "    return counter"
   ]
  },
  {
   "cell_type": "code",
   "execution_count": 10,
   "id": "f576e16c-7e9a-4259-b162-8df8f37c5789",
   "metadata": {},
   "outputs": [
    {
     "name": "stdout",
     "output_type": "stream",
     "text": [
      "3\n"
     ]
    }
   ],
   "source": [
    "expected_array_checker([3,2,4,0])"
   ]
  },
  {
   "cell_type": "markdown",
   "id": "dc1fbfc1-b675-4fc0-8f03-ddace4d6a600",
   "metadata": {},
   "source": [
    "### Max consecutive ones"
   ]
  },
  {
   "cell_type": "code",
   "execution_count": 22,
   "id": "ec170520-f366-404e-8490-d113c4e40178",
   "metadata": {},
   "outputs": [],
   "source": [
    "def consecutive_ones(arr):\n",
    "    # zero indices\n",
    "    zeros = []\n",
    "    for i, element in enumerate(arr):\n",
    "        if element == 0:\n",
    "            zeros.append(i)\n",
    "\n",
    "    max_with_flip = 0\n",
    "\n",
    "    for i in zeros:\n",
    "        temp = arr.copy()\n",
    "        temp[i] = 1\n",
    "        \n",
    "        count = 0\n",
    "        result = 0\n",
    "        for i in temp:\n",
    "            if i == 0:\n",
    "                count = 0\n",
    "            else:\n",
    "                count +=1\n",
    "                result = max(result, count)\n",
    "        max_with_flip = max(max_with_flip, result)\n",
    "    return max_with_flip"
   ]
  },
  {
   "cell_type": "code",
   "execution_count": 31,
   "id": "61399b0b-64b8-473b-b247-e43a41a9bfb7",
   "metadata": {},
   "outputs": [
    {
     "data": {
      "text/plain": [
       "4"
      ]
     },
     "execution_count": 31,
     "metadata": {},
     "output_type": "execute_result"
    }
   ],
   "source": [
    "consecutive_ones([1,1,0,1,0,1,0,1,1])"
   ]
  },
  {
   "cell_type": "markdown",
   "id": "c696a447-3d56-4e77-93cb-1f6a7a9bee99",
   "metadata": {},
   "source": [
    "### Third Max - Doesn't work"
   ]
  },
  {
   "cell_type": "code",
   "execution_count": 41,
   "id": "c163fda2-c7bc-4c53-8e27-967ebc0334c4",
   "metadata": {},
   "outputs": [],
   "source": [
    "def third_max(arr):\n",
    "    unique_arr = list(set(arr))\n",
    "    \n",
    "    if len(unique_arr)<3:\n",
    "        return max(unique_arr)\n",
    "    \n",
    "    list_of_max = []\n",
    "    \n",
    "    for i, element in enumerate(unique_arr):\n",
    "        max_element = max(unique_arr)\n",
    "        if element == max_element:\n",
    "            list_of_max.append(element)\n",
    "            unique_arr[i] = 0\n",
    "        if len(list_of_max) == 3:\n",
    "            break\n",
    "    return min(list_of_max)\n",
    "        "
   ]
  },
  {
   "cell_type": "code",
   "execution_count": 42,
   "id": "43649b9b-b0f1-45a5-9ea9-f3ca580b0a33",
   "metadata": {},
   "outputs": [
    {
     "data": {
      "text/plain": [
       "6"
      ]
     },
     "execution_count": 42,
     "metadata": {},
     "output_type": "execute_result"
    }
   ],
   "source": [
    "third_max([4,5,6,3,4,4,2])\n"
   ]
  },
  {
   "cell_type": "markdown",
   "id": "0f4a1b54-d00c-45fe-9e8b-a1f875ada2bb",
   "metadata": {},
   "source": [
    "###  Find All Numbers Disappeared in an Array"
   ]
  },
  {
   "cell_type": "code",
   "execution_count": 6,
   "id": "69c13683-92c3-4b58-95c6-33b24b46433c",
   "metadata": {},
   "outputs": [],
   "source": [
    "def findDisappearedNumbers(arr):\n",
    "    len_arr = len(arr)\n",
    "    \n",
    "    set_all = set([i for i in range(1, len_arr+1)])\n",
    "    set_arr = set(arr)\n",
    "    return list(set_all - set_arr)"
   ]
  },
  {
   "cell_type": "code",
   "execution_count": null,
   "id": "6c4680a9-01ef-4417-a4b1-7fff6c3f4d8d",
   "metadata": {},
   "outputs": [],
   "source": [
    "def find_missing(arr):\n",
    "    for x in arr:\n",
    "        di[x]=di.get(x,0)+1\n",
    "\n",
    "    for i in range"
   ]
  },
  {
   "cell_type": "code",
   "execution_count": 8,
   "id": "cd17745e-c9a8-4af3-a7d8-77f312ebcf73",
   "metadata": {},
   "outputs": [
    {
     "data": {
      "text/plain": [
       "[4]"
      ]
     },
     "execution_count": 8,
     "metadata": {},
     "output_type": "execute_result"
    }
   ],
   "source": [
    "findDisappearedNumbers([1,2,1,5,3])"
   ]
  },
  {
   "cell_type": "code",
   "execution_count": 11,
   "id": "1ebd4ed0-267d-4c0c-bdf0-ae1fefe0b7b9",
   "metadata": {},
   "outputs": [
    {
     "data": {
      "text/plain": [
       "[1, 2, 1, 5, 3]"
      ]
     },
     "execution_count": 11,
     "metadata": {},
     "output_type": "execute_result"
    }
   ],
   "source": [
    "[1,2,1,5,3]"
   ]
  },
  {
   "cell_type": "code",
   "execution_count": null,
   "id": "ef3570ee-b76e-4bea-ad54-48a1a5738166",
   "metadata": {},
   "outputs": [],
   "source": [
    "for i in range(len([1,2,1,5,3])):\n",
    "    "
   ]
  },
  {
   "cell_type": "markdown",
   "id": "74d2fc9e-c868-462f-9d8a-b064e3f51f8f",
   "metadata": {},
   "source": [
    "# Linked Lists"
   ]
  },
  {
   "cell_type": "markdown",
   "id": "a67940e4-6789-4a22-880b-8382f316661d",
   "metadata": {},
   "source": [
    "### Design your implementation of the linked list. You can choose to use a singly or doubly linked list.\n"
   ]
  },
  {
   "cell_type": "code",
   "execution_count": 1,
   "id": "4f172f09-1e1a-42b8-9e70-18d0c91c95af",
   "metadata": {},
   "outputs": [],
   "source": [
    "class LinkedNode:\n",
    "    \n",
    "    def __init__(self, val=0, next_node=None):\n",
    "        self.val = val\n",
    "        self.next_node = next_node"
   ]
  },
  {
   "cell_type": "code",
   "execution_count": 2,
   "id": "bc86394e-0d26-494d-ab74-9e43a40c2396",
   "metadata": {},
   "outputs": [],
   "source": [
    "class LinkedNode:\n",
    "    \n",
    "    def __init__(self, val=0, next_node=None):\n",
    "        self.val = val\n",
    "        self.next_node = next_node\n",
    "\n",
    "class MyLinkedList:\n",
    "\n",
    "    def __init__(self):\n",
    "        \"\"\"\n",
    "        Initialize your data structure here.\n",
    "        \"\"\"\n",
    "        self.length = 0\n",
    "        self.head = LinkedNode()\n",
    "    \n",
    "\n",
    "    def get(self, index: int) -> int:\n",
    "        \"\"\"\n",
    "        Get the value of the index-th node in the linked list. If the index is invalid, return -1.\n",
    "        \"\"\"\n",
    "        if index >= self.length:\n",
    "            return -1\n",
    "        element = self.head # Starting from the terminal\n",
    "        for i in range(index+1):\n",
    "            element = element.next_node\n",
    "        return element.val\n",
    "        \n",
    "\n",
    "    def addAtHead(self, val: int) -> None:\n",
    "        \"\"\"\n",
    "        Add a node of value val before the first element of the linked list. After the insertion, the new node will be the first node of the linked list.\n",
    "        \"\"\"\n",
    "        element = self.head\n",
    "        new_node = LinkedNode(val, element.next_node)\n",
    "        element.next_node = new_node\n",
    "        self.length += 1\n",
    "        \n",
    "\n",
    "    def addAtTail(self, val: int) -> None:\n",
    "        \"\"\"\n",
    "        Append a node of value val to the last element of the linked list.\n",
    "        \"\"\"\n",
    "        element = self.head\n",
    "        for i in range(self.length):\n",
    "            element = element.next_node\n",
    "        new_node = LinkedNode(val, None)\n",
    "        \n",
    "        assert element.next_node == None, \"Last Node is not None\"\n",
    "        element.next_node = new_node\n",
    "        self.length += 1\n",
    "        \n",
    "\n",
    "    def addAtIndex(self, index: int, val: int) -> None:\n",
    "        \"\"\"\n",
    "        Add a node of value val before the index-th node in the linked list. If index equals to the length of linked list, the node will be appended to the end of linked list. If index is greater than the length, the node will not be inserted.\n",
    "        \"\"\"\n",
    "        if index > self.length:\n",
    "#             print(\"Out of Index error\")\n",
    "            return\n",
    "        \n",
    "#         if index == self.length:\n",
    "#             return self.addAtTail(val)\n",
    "            \n",
    "#         if index == 0:\n",
    "#             return self.addAtHead(val)\n",
    "        \n",
    "        element = self.head\n",
    "        for i in range(index):\n",
    "            element = element.next_node\n",
    "        new_node = LinkedNode(val, element.next_node)\n",
    "        element.next_node = new_node\n",
    "        self.length += 1\n",
    "        \n",
    "\n",
    "    def deleteAtIndex(self, index: int) -> None:\n",
    "        \"\"\"\n",
    "        Delete the index-th node in the linked list, if the index is valid.\n",
    "        \"\"\"\n",
    "        if not index < self.length:\n",
    "            print(\"Out of Index error\")\n",
    "            return\n",
    "\n",
    "        element = self.head\n",
    "        for i in range(index):\n",
    "            element = element.next_node\n",
    "        element.next_node = element.next_node.next_node\n",
    "        self.length -= 1\n",
    "        \n",
    "    \n",
    "    def generate_list(self):\n",
    "        element = self.head\n",
    "        element_list = []\n",
    "        for i in range(self.length):\n",
    "            element = element.next_node\n",
    "            element_list.append(element.val)\n",
    "        print(element_list)\n",
    "        "
   ]
  },
  {
   "cell_type": "code",
   "execution_count": 4,
   "id": "5bff1027-b381-4908-bc7d-18155726880b",
   "metadata": {},
   "outputs": [
    {
     "name": "stdout",
     "output_type": "stream",
     "text": [
      "[1]\n",
      "[1, 3]\n",
      "[1, 2, 3]\n",
      "2\n",
      "3\n"
     ]
    }
   ],
   "source": [
    "test = MyLinkedList()\n",
    "test.addAtHead(1)\n",
    "test.generate_list()\n",
    "test.addAtTail(3)\n",
    "test.generate_list()\n",
    "test.addAtIndex(1, 2)\n",
    "test.generate_list()\n",
    "print(test.get(1))\n",
    "test.deleteAtIndex(1)\n",
    "print(test.get(1))\n"
   ]
  },
  {
   "cell_type": "code",
   "execution_count": 15,
   "id": "1f41e176-8222-4d1a-a116-a7828d7d3462",
   "metadata": {},
   "outputs": [
    {
     "name": "stdout",
     "output_type": "stream",
     "text": [
      "[1, 3]\n"
     ]
    }
   ],
   "source": [
    "test.generate_list()"
   ]
  },
  {
   "cell_type": "code",
   "execution_count": 20,
   "id": "6cb8ca53-318c-4430-bd8f-b5c27da4b5ab",
   "metadata": {},
   "outputs": [
    {
     "name": "stdout",
     "output_type": "stream",
     "text": [
      "[3, 2, 0, -4]\n"
     ]
    }
   ],
   "source": [
    "test = MyLinkedList()\n",
    "test.addAtHead(-4)\n",
    "test.addAtHead(0)\n",
    "test.addAtHead(2)\n",
    "test.addAtHead(3)\n",
    "test.generate_list()"
   ]
  },
  {
   "cell_type": "code",
   "execution_count": 21,
   "id": "0188a9e7-aba6-4a93-ac79-769438cbaa36",
   "metadata": {},
   "outputs": [],
   "source": [
    "# Definition for singly-linked list.\n",
    "# class ListNode:\n",
    "#     def __init__(self, x):\n",
    "#         self.val = x\n",
    "#         self.next = None\n",
    "\n",
    "class Solution:\n",
    "    def hasCycle(self, head: ListNode) -> bool:        \n",
    "        if (head == None ) or (head.next == None):\n",
    "            return False\n",
    "        \n",
    "        first_pointer = head\n",
    "        second_pointer = head.next\n",
    "        while (second_pointer != None) and (second_pointer.next != None):\n",
    "            first_pointer = first_pointer.next\n",
    "            second_pointer = second_pointer.next.next\n",
    "            \n",
    "            if first_pointer == second_pointer:\n",
    "                return True\n",
    "            \n",
    "        return False"
   ]
  },
  {
   "cell_type": "code",
   "execution_count": 22,
   "id": "f2f02148-47b4-405d-ba27-fc2092e68c4b",
   "metadata": {},
   "outputs": [
    {
     "data": {
      "text/plain": [
       "0"
      ]
     },
     "execution_count": 22,
     "metadata": {},
     "output_type": "execute_result"
    }
   ],
   "source": [
    "hasCycle(test.head)"
   ]
  },
  {
   "cell_type": "markdown",
   "id": "647cced5-60fc-4502-85c7-b7100e063a21",
   "metadata": {},
   "source": [
    "###  Intersection of Two Linked Lists"
   ]
  },
  {
   "cell_type": "code",
   "execution_count": 1,
   "id": "7e32fcdb-6ddc-429f-bf51-3994bba9292e",
   "metadata": {},
   "outputs": [],
   "source": [
    "class ListNode:\n",
    "    def __init__(self, x):\n",
    "        self.val = x\n",
    "        self.next = None\n",
    "\n",
    "def getIntersectionNode(headA: ListNode, headB: ListNode) -> ListNode:\n",
    "    pA = headA\n",
    "    pB = headB\n",
    "    \n",
    "    while pA != pB:\n",
    "        pA = headB if pA == None else pA.next\n",
    "        pB = headA if pB == None else pB.next\n",
    "    \n",
    "    return pA"
   ]
  },
  {
   "cell_type": "markdown",
   "id": "b1f17eba-14d8-41c2-9649-e4d5a5b129b3",
   "metadata": {},
   "source": [
    "### Remove Nth Node From End of List"
   ]
  },
  {
   "cell_type": "code",
   "execution_count": null,
   "id": "f7f0e98d-48a0-4638-b984-3f3c9b416e12",
   "metadata": {},
   "outputs": [],
   "source": [
    "def removeNthFromEnd(head: Optional[ListNode], n: int):\n",
    "    pA = head\n",
    "    pB = head\n",
    "    \n",
    "    i = 0\n",
    "    while pB != None:\n",
    "        if i>n:\n",
    "            pA = pA.next\n",
    "        pB = pB.next\n",
    "        i+=1\n",
    "    \n",
    "    pA.next = pA.next.next\n",
    "    "
   ]
  },
  {
   "cell_type": "code",
   "execution_count": null,
   "id": "0c6c40fc-d4ad-4cba-85c7-207d3c1e707c",
   "metadata": {},
   "outputs": [],
   "source": [
    "def removeNthFromEnd(self, head, n):\n",
    "        size = 1\n",
    "        cur = p = head\n",
    "        while cur.next:\n",
    "            size += 1\n",
    "            cur = cur.next\n",
    "            if size > n + 1:\n",
    "                p = p.next\n",
    "        if size == n:\n",
    "            return head.next\n",
    "        else:\n",
    "            p.next = p.next.next\n",
    "            return head"
   ]
  },
  {
   "cell_type": "markdown",
   "id": "1670350f-c0bf-4d02-8112-d0ebea26c4d6",
   "metadata": {},
   "source": [
    "test = MyLinkedList()\n",
    "test.addAtHead(1)\n",
    "test.generate_list()\n",
    "test.addAtTail(3)\n",
    "test.generate_list()\n",
    "test.addAtIndex(1, 2)\n",
    "test.generate_list()\n",
    "print(test.get(1))\n",
    "test.deleteAtIndex(1)\n",
    "print(test.get(1))\n",
    "### Reverse Linked List"
   ]
  },
  {
   "cell_type": "code",
   "execution_count": 25,
   "id": "2f0685e6-75b6-41dc-9e97-53312deccc8f",
   "metadata": {},
   "outputs": [
    {
     "name": "stdout",
     "output_type": "stream",
     "text": [
      "[1, 2, 3, 4, 5]\n"
     ]
    }
   ],
   "source": [
    "class LinkedNode:\n",
    "    \n",
    "    def __init__(self, val=0, next_node=None):\n",
    "        self.val = val\n",
    "        self.next_node = next_node\n",
    "\n",
    "class MyLinkedList:\n",
    "\n",
    "    def __init__(self):\n",
    "        \"\"\"\n",
    "        Initialize your data structure here.\n",
    "        \"\"\"\n",
    "        self.length = 0\n",
    "        self.head = LinkedNode()\n",
    "    \n",
    "\n",
    "    def get(self, index: int) -> int:\n",
    "        \"\"\"\n",
    "        Get the value of the index-th node in the linked list. If the index is invalid, return -1.\n",
    "        \"\"\"\n",
    "        if index >= self.length:\n",
    "            return -1\n",
    "        element = self.head # Starting from the terminal\n",
    "        for i in range(index+1):\n",
    "            element = element.next_node\n",
    "        return element.val\n",
    "        \n",
    "\n",
    "    def addAtHead(self, val: int) -> None:\n",
    "        \"\"\"\n",
    "        Add a node of value val before the first element of the linked list. After the insertion, the new node will be the first node of the linked list.\n",
    "        \"\"\"\n",
    "        element = self.head\n",
    "        new_node = LinkedNode(val, element.next_node)\n",
    "        element.next_node = new_node\n",
    "        self.length += 1\n",
    "        \n",
    "\n",
    "    def addAtTail(self, val: int) -> None:\n",
    "        \"\"\"\n",
    "        Append a node of value val to the last element of the linked list.\n",
    "        \"\"\"\n",
    "        element = self.head\n",
    "        for i in range(self.length):\n",
    "            element = element.next_node\n",
    "        new_node = LinkedNode(val, None)\n",
    "        \n",
    "        assert element.next_node == None, \"Last Node is not None\"\n",
    "        element.next_node = new_node\n",
    "        self.length += 1\n",
    "        \n",
    "\n",
    "    def addAtIndex(self, index: int, val: int) -> None:\n",
    "        \"\"\"\n",
    "        Add a node of value val before the index-th node in the linked list. If index equals to the length of linked list, the node will be appended to the end of linked list. If index is greater than the length, the node will not be inserted.\n",
    "        \"\"\"\n",
    "        if index > self.length:\n",
    "#             print(\"Out of Index error\")\n",
    "            return\n",
    "        \n",
    "#         if index == self.length:\n",
    "#             return self.addAtTail(val)\n",
    "            \n",
    "#         if index == 0:\n",
    "#             return self.addAtHead(val)\n",
    "        \n",
    "        element = self.head\n",
    "        for i in range(index):\n",
    "            element = element.next_node\n",
    "        new_node = LinkedNode(val, element.next_node)\n",
    "        element.next_node = new_node\n",
    "        self.length += 1\n",
    "        \n",
    "\n",
    "    def deleteAtIndex(self, index: int) -> None:\n",
    "        \"\"\"\n",
    "        Delete the index-th node in the linked list, if the index is valid.\n",
    "        \"\"\"\n",
    "        if not index < self.length:\n",
    "            print(\"Out of Index error\")\n",
    "            return\n",
    "\n",
    "        element = self.head\n",
    "        for i in range(index):\n",
    "            element = element.next_node\n",
    "        element.next_node = element.next_node.next_node\n",
    "        self.length -= 1\n",
    "        \n",
    "    \n",
    "    def generate_list(self):\n",
    "        element = self.head\n",
    "        element_list = []\n",
    "        for i in range(self.length):\n",
    "            element = element.next_node\n",
    "            element_list.append(element.val)\n",
    "        print(element_list)\n",
    "        \n",
    "\n",
    "test = MyLinkedList()\n",
    "test.addAtHead(5)\n",
    "test.addAtHead(4)\n",
    "test.addAtHead(3)\n",
    "test.addAtHead(2)\n",
    "test.addAtHead(1)\n",
    "test.generate_list()"
   ]
  },
  {
   "cell_type": "code",
   "execution_count": 23,
   "id": "518c49ae-ad36-469b-89f5-31cef8ee6c4d",
   "metadata": {},
   "outputs": [
    {
     "data": {
      "text/plain": [
       "1"
      ]
     },
     "execution_count": 23,
     "metadata": {},
     "output_type": "execute_result"
    }
   ],
   "source": [
    "test.head.next_node.val"
   ]
  },
  {
   "cell_type": "code",
   "execution_count": 33,
   "id": "bda07764-9f4b-4da3-ac61-7e28bafc4bc7",
   "metadata": {},
   "outputs": [],
   "source": [
    "def reverseLinkedList(head):\n",
    "    curr, prev = head, None\n",
    "    while curr:\n",
    "        nex = curr.next\n",
    "        curr.next = prev\n",
    "        prev = curr\n",
    "        curr = nex\n",
    "    return prev"
   ]
  },
  {
   "cell_type": "code",
   "execution_count": 1,
   "id": "6a0cc712-4beb-4985-b69c-d9946d9c45c6",
   "metadata": {},
   "outputs": [],
   "source": [
    "def reverseList_v1(self, head):  # Recursive\n",
    "        \"\"\"\n",
    "        :type head: ListNode\n",
    "        :rtype: ListNode\n",
    "        \"\"\"     \n",
    "        if not head or not head.next:\n",
    "            return head\n",
    "        p = self.reverseList(head.next)\n",
    "        head.next.next = head\n",
    "        head.next = None\n",
    "        return p"
   ]
  },
  {
   "cell_type": "markdown",
   "id": "33791753-7297-4dfc-9c8d-fc22bd321206",
   "metadata": {},
   "source": [
    "### Remove Linked List Elements"
   ]
  },
  {
   "cell_type": "code",
   "execution_count": null,
   "id": "cf3b6348-8286-4886-8006-bd6a6a857853",
   "metadata": {},
   "outputs": [],
   "source": [
    "def remove_list_element(head, val):\n",
    "    while head.next:\n",
    "        if head.next == val:\n",
    "            if head.next.next:\n",
    "                head.next = head.next.next\n",
    "            else:\n",
    "                head.next = None\n",
    "        head = head.next\n",
    "    return head"
   ]
  },
  {
   "cell_type": "markdown",
   "id": "94338e6f-45a2-4d73-b31d-ca1394e9668e",
   "metadata": {},
   "source": [
    "### Odd Even Indices Ordered List"
   ]
  },
  {
   "cell_type": "code",
   "execution_count": null,
   "id": "c19841e8-ff0e-4e34-bb6f-f3ca4436cd42",
   "metadata": {},
   "outputs": [],
   "source": [
    "def oddEvenList(head):\n",
    "    if not head or head.next:\n",
    "        return head\n",
    "    \n",
    "    sentinel_odd = LinkedNode()\n",
    "    sentinel_odd.next = head\n",
    "    \n",
    "    sentinel_even = LinkedNode()\n",
    "    sentinel_even.next = head.next\n",
    "    \n",
    "    p_odd = sentinel_odd.next\n",
    "    p_even = sentinel_even.next\n",
    "    \n",
    "    while p_odd.next and p_odd.next.next:\n",
    "        p_even.next = p_odd.next\n",
    "        p_odd.next = p_odd.next.next\n",
    "        \n",
    "    p_odd.next = sentinel_even.next.next\n",
    "    \n",
    "    return p_odd\n",
    "        "
   ]
  },
  {
   "cell_type": "code",
   "execution_count": null,
   "id": "7bdd2abe-d2dc-4abd-8bdf-851eb4a225a9",
   "metadata": {},
   "outputs": [],
   "source": [
    "def oddEvenList(self, head):\n",
    "    odds = ListNode(0)\n",
    "    evens = ListNode(0)\n",
    "    oddsHead = odds\n",
    "    evensHead = evens\n",
    "    isOdd = True\n",
    "    while head:\n",
    "        if isOdd:\n",
    "            odds.next = head\n",
    "            odds = odds.next\n",
    "        else:\n",
    "            evens.next = head\n",
    "            evens = evens.next\n",
    "        isOdd = not isOdd\n",
    "        head = head.next\n",
    "    evens.next = None\n",
    "    odds.next = evensHead.next\n",
    "    return oddsHead.next"
   ]
  },
  {
   "cell_type": "markdown",
   "id": "26367d10-606b-4d45-8f6a-d480328b7c13",
   "metadata": {},
   "source": [
    "### Doubly Linked List"
   ]
  },
  {
   "cell_type": "code",
   "execution_count": 1,
   "id": "daf7887a-2bb8-46df-95d3-d674e2dd0353",
   "metadata": {},
   "outputs": [],
   "source": [
    "class LinkedNode:\n",
    "    \n",
    "    def __init__(self, val=0, next=None, prev=None):\n",
    "        self.val = val\n",
    "        self.next = next\n",
    "        self.prev = prev\n",
    "\n",
    "class MyLinkedList:\n",
    "\n",
    "    def __init__(self):\n",
    "        \"\"\"\n",
    "        Initialize your data structure here.\n",
    "        \"\"\"\n",
    "        self.length = 0\n",
    "        self.head = LinkedNode()\n",
    "    \n",
    "\n",
    "    def get(self, index: int) -> int:\n",
    "        \"\"\"\n",
    "        Get the value of the index-th node in the linked list. If the index is invalid, return -1.\n",
    "        \"\"\"\n",
    "        if (index >= self.length) or (index<0):\n",
    "            return -1\n",
    "        element = self.head # Starting from the terminal\n",
    "        for i in range(index+1):\n",
    "            element = element.next\n",
    "        return element.val\n",
    "        \n",
    "\n",
    "    def addAtHead(self, val: int) -> None:\n",
    "        \"\"\"\n",
    "        Add a node of value val before the first element of the linked list. After the insertion, the new node will be the first node of the linked list.\n",
    "        \"\"\"\n",
    "        element = self.head\n",
    "        new_node = LinkedNode(val, element.next)\n",
    "        element.next = new_node\n",
    "        self.length += 1\n",
    "        \n",
    "\n",
    "    def addAtTail(self, val: int) -> None:\n",
    "        \"\"\"\n",
    "        Append a node of value val to the last element of the linked list.\n",
    "        \"\"\"\n",
    "        element = self.head\n",
    "        for i in range(self.length):\n",
    "            element = element.next\n",
    "        new_node = LinkedNode(val, None)\n",
    "        \n",
    "        assert element.next == None, \"Last Node is not None\"\n",
    "        element.next = new_node\n",
    "        self.length += 1\n",
    "        \n",
    "\n",
    "    def addAtIndex(self, index: int, val: int) -> None:\n",
    "        \"\"\"\n",
    "        Add a node of value val before the index-th node in the linked list. If index equals to the length of linked list, the node will be appended to the end of linked list. If index is greater than the length, the node will not be inserted.\n",
    "        \"\"\"\n",
    "        if index > self.length:\n",
    "            # print(\"Out of Index error\")\n",
    "            return\n",
    "        \n",
    "        if index == self.length:\n",
    "            return self.addAtTail(val)\n",
    "            \n",
    "        if index == 0:\n",
    "            return self.addAtHead(val)\n",
    "        \n",
    "        element = self.head\n",
    "        for i in range(index):\n",
    "            element = element.next\n",
    "        new_node = LinkedNode(val, element.next)\n",
    "        element.next = new_node\n",
    "        self.length += 1\n",
    "        \n",
    "\n",
    "    def deleteAtIndex(self, index: int) -> None:\n",
    "        \"\"\"\n",
    "        Delete the index-th node in the linked list, if the index is valid.\n",
    "        \"\"\"\n",
    "        if not index < self.length:\n",
    "            # print(\"Out of Index error\")\n",
    "            return\n",
    "\n",
    "        element = self.head\n",
    "        for i in range(index):\n",
    "            element = element.next\n",
    "        element.next = element.next.next\n",
    "        self.length -= 1\n",
    "        \n",
    "    \n",
    "    def generate_list(self):\n",
    "        element = self.head\n",
    "        element_list = []\n",
    "        for i in range(self.length):\n",
    "            element = element.next\n",
    "            element_list.append(element.val)\n",
    "        print(element_list)\n",
    "        "
   ]
  },
  {
   "cell_type": "code",
   "execution_count": 2,
   "id": "7becbecb-955a-4ef8-86f9-dc740f89cb45",
   "metadata": {},
   "outputs": [
    {
     "name": "stdout",
     "output_type": "stream",
     "text": [
      "[1, 2, 3, 4, 5]\n"
     ]
    }
   ],
   "source": [
    "test = MyLinkedList()\n",
    "test.addAtHead(5)\n",
    "test.addAtHead(4)\n",
    "test.addAtHead(3)\n",
    "test.addAtHead(2)\n",
    "test.addAtHead(1)\n",
    "test.generate_list()"
   ]
  },
  {
   "cell_type": "markdown",
   "id": "2d14c35d-ede4-4f65-b5b9-cf97384c444a",
   "metadata": {},
   "source": [
    "# Trees"
   ]
  },
  {
   "cell_type": "code",
   "execution_count": null,
   "id": "b37cf9d5-2a5d-47e7-94ca-f88177f0f588",
   "metadata": {},
   "outputs": [],
   "source": [
    "class TreeNode:\n",
    "    def __init__(self, val=0, left=None, right=None):\n",
    "        self.val = val\n",
    "        self.left = left\n",
    "        self.right = right\n",
    "\n",
    "def preorderTraversal(root: Optional[TreeNode]) -> List[int]:\n",
    "    \n",
    "        "
   ]
  }
 ],
 "metadata": {
  "kernelspec": {
   "display_name": "Python 3",
   "language": "python",
   "name": "python3"
  },
  "language_info": {
   "codemirror_mode": {
    "name": "ipython",
    "version": 3
   },
   "file_extension": ".py",
   "mimetype": "text/x-python",
   "name": "python",
   "nbconvert_exporter": "python",
   "pygments_lexer": "ipython3",
   "version": "3.8.5"
  }
 },
 "nbformat": 4,
 "nbformat_minor": 5
}
