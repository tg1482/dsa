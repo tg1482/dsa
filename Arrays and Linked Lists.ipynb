{
 "cells": [
  {
   "cell_type": "markdown",
   "source": [
    "# Arrays"
   ],
   "metadata": {}
  },
  {
   "cell_type": "markdown",
   "source": [
    "### Given a binary array, find the maximum number of consecutive 1s in this array."
   ],
   "metadata": {}
  },
  {
   "cell_type": "code",
   "execution_count": 14,
   "source": [
    "def array_1s(array):\n",
    "    if np.sum(array) == 0:\n",
    "        return 0\n",
    "    array1 = array[1:]\n",
    "    array2 = array[:-1]\n",
    "    return np.sum(np.dot(array1,array2))+1"
   ],
   "outputs": [],
   "metadata": {}
  },
  {
   "cell_type": "code",
   "execution_count": 21,
   "source": [
    "def array_1s(array):\n",
    "    count = 0\n",
    "    result = 0\n",
    "    \n",
    "    for i in array:\n",
    "        if i == 0:\n",
    "            count = 0\n",
    "        else:\n",
    "            count +=1\n",
    "            result = max(result, count)\n",
    "    return result"
   ],
   "outputs": [],
   "metadata": {}
  },
  {
   "cell_type": "code",
   "execution_count": 22,
   "source": [
    "array_1s([0,0,0])"
   ],
   "outputs": [
    {
     "output_type": "execute_result",
     "data": {
      "text/plain": [
       "0"
      ]
     },
     "metadata": {},
     "execution_count": 22
    }
   ],
   "metadata": {}
  },
  {
   "cell_type": "code",
   "execution_count": 23,
   "source": [
    "array_1s([1,0,0,1,1])"
   ],
   "outputs": [
    {
     "output_type": "execute_result",
     "data": {
      "text/plain": [
       "2"
      ]
     },
     "metadata": {},
     "execution_count": 23
    }
   ],
   "metadata": {}
  },
  {
   "cell_type": "code",
   "execution_count": 24,
   "source": [
    "array_1s([1,0,0,1,1,0,1,1,1,1])"
   ],
   "outputs": [
    {
     "output_type": "execute_result",
     "data": {
      "text/plain": [
       "4"
      ]
     },
     "metadata": {},
     "execution_count": 24
    }
   ],
   "metadata": {}
  },
  {
   "cell_type": "markdown",
   "source": [
    "### Given an array nums of integers, return how many of them contain an even number of digits."
   ],
   "metadata": {}
  },
  {
   "cell_type": "code",
   "execution_count": 38,
   "source": [
    "def even_digits(array):\n",
    "    assert len(array)<=500\n",
    "    assert np.max(array)<10e5\n",
    "    digits = []\n",
    "    for num in array:\n",
    "        i = num\n",
    "        count = 0\n",
    "        while i > 0:\n",
    "            i = i // 10\n",
    "            count+=1\n",
    "        if count%2==0:\n",
    "            digits.append(num)\n",
    "    return len(digits)\n",
    "    "
   ],
   "outputs": [],
   "metadata": {}
  },
  {
   "cell_type": "code",
   "execution_count": 46,
   "source": [
    "even_digits([50,5,3000560])"
   ],
   "outputs": [
    {
     "output_type": "execute_result",
     "data": {
      "text/plain": [
       "[50]"
      ]
     },
     "metadata": {},
     "execution_count": 46
    }
   ],
   "metadata": {}
  },
  {
   "cell_type": "markdown",
   "source": [
    "### Given an integer array nums sorted in non-decreasing order, return an array of the squares of each number sorted in non-decreasing order."
   ],
   "metadata": {}
  },
  {
   "cell_type": "code",
   "execution_count": 97,
   "source": [
    "def sortedSquares(nums):\n",
    "    if len(nums)<=1:\n",
    "        return [i**2 for i in nums]\n",
    "    arr1 = []\n",
    "    arr2 = []\n",
    "    for num in nums:\n",
    "        if num >= 0:\n",
    "            arr1.append(num**2)\n",
    "    for num in nums:\n",
    "        if num < 0:\n",
    "            arr2.append(num**2)\n",
    "            \n",
    "    if len(arr1)==0:\n",
    "        return arr2\n",
    "    if len(arr2)==0:\n",
    "        return arr1\n",
    "\n",
    "    arr2 = arr2[::-1]\n",
    "\n",
    "    new_arr = []\n",
    "    counter1 = 0\n",
    "    counter2 = 0\n",
    "    \n",
    "    for i in range(len(nums)):\n",
    "        if arr1[counter1] <= arr2[counter2]:\n",
    "            new_arr.append(arr1[counter1])\n",
    "            if counter1 == len(arr1)-1:\n",
    "                new_arr.extend(arr2[counter2:])\n",
    "                break\n",
    "            counter1+=1\n",
    "        else:\n",
    "            new_arr.append(arr2[counter2])\n",
    "            if counter2 == len(arr2)-1:\n",
    "                new_arr.extend(arr1[counter1:])\n",
    "                break\n",
    "            counter2+=1\n",
    "    return new_arr"
   ],
   "outputs": [],
   "metadata": {}
  },
  {
   "cell_type": "code",
   "execution_count": 98,
   "source": [
    "sortedSquares([-4, -2, 0, 1, 6, 10])"
   ],
   "outputs": [
    {
     "output_type": "execute_result",
     "data": {
      "text/plain": [
       "[0, 1, 4, 16, 36, 100]"
      ]
     },
     "metadata": {},
     "execution_count": 98
    }
   ],
   "metadata": {}
  },
  {
   "cell_type": "code",
   "execution_count": 74,
   "source": [
    "ar1=[0,1,9]"
   ],
   "outputs": [],
   "metadata": {}
  },
  {
   "cell_type": "code",
   "execution_count": 70,
   "source": [
    "ar1[::-1]"
   ],
   "outputs": [
    {
     "output_type": "execute_result",
     "data": {
      "text/plain": [
       "[9, 1, 0]"
      ]
     },
     "metadata": {},
     "execution_count": 70
    }
   ],
   "metadata": {}
  },
  {
   "cell_type": "markdown",
   "source": [
    "### Given a fixed length array arr of integers, duplicate each occurrence of zero, shifting the remaining elements to the right.\n",
    "\n",
    "### Note that elements beyond the length of the original array are not written.\n",
    "\n",
    "### Do the above modifications to the input array in place, do not return anything from your function."
   ],
   "metadata": {}
  },
  {
   "cell_type": "code",
   "execution_count": 104,
   "source": [
    "def double_or_nothing(arr):\n",
    "    if sum(arr)==0:\n",
    "        return\n",
    "    len_arr = len(arr)\n",
    "    i = 0\n",
    "    while i < len_arr-1:\n",
    "        if arr[i]==0:\n",
    "            arr[i+2:len_arr] = arr[i+1:len_arr-1]\n",
    "            arr[i+1] = 0\n",
    "            i+=2\n",
    "            continue\n",
    "        i+=1\n",
    "    print(arr)"
   ],
   "outputs": [],
   "metadata": {}
  },
  {
   "cell_type": "code",
   "execution_count": 105,
   "source": [
    "double_or_nothing([8,4,5,0,0,0,0,7])"
   ],
   "outputs": [
    {
     "output_type": "stream",
     "name": "stdout",
     "text": [
      "[8, 4, 5, 0, 0, 0, 0, 0]\n"
     ]
    }
   ],
   "metadata": {}
  },
  {
   "cell_type": "markdown",
   "source": [
    "### You are given two integer arrays nums1 and nums2, sorted in non-decreasing order, and two integers m and n, representing the number of elements in nums1 and nums2 respectively."
   ],
   "metadata": {}
  },
  {
   "cell_type": "code",
   "execution_count": 145,
   "source": [
    "def merge_sorted(num1, m, num2, n):\n",
    "    arr1 = num1[:m]\n",
    "    \n",
    "    counter1 = 0\n",
    "    counter2 = 0\n",
    "    \n",
    "    if sum(num1) == 0:\n",
    "        num1[:m+n] = num2[:n]\n",
    "        print(num1)\n",
    "        return\n",
    "    \n",
    "    if len(num2)==0:\n",
    "        return\n",
    "        \n",
    "    for i in range(m+n-1):\n",
    "        if arr1[counter1] <= num2[counter2]:\n",
    "            num1[i] = arr1[counter1]\n",
    "            counter1+=1\n",
    "            if counter1 == m:\n",
    "                num1[i+1:] = num2[counter2:]\n",
    "                print(num1)\n",
    "                break\n",
    "        else:\n",
    "            num1[i] = num2[counter2]\n",
    "            counter2+=1\n",
    "            if counter2 == n:\n",
    "                num1[i+1:] = arr1[counter1:]\n",
    "                print(num1)\n",
    "                break\n",
    "        print(num1)"
   ],
   "outputs": [],
   "metadata": {}
  },
  {
   "cell_type": "code",
   "execution_count": null,
   "source": [
    "def merge(nums1: List[int], m: int, nums2: List[int], n: int) -> None:\n",
    "        \"\"\"\n",
    "        Do not return anything, modify nums1 in-place instead.\n",
    "        \"\"\"\n",
    "        # Make a copy of the first m elements of nums1.\n",
    "        nums1_copy = nums1[:m] \n",
    "        \n",
    "        # Read pointers for nums1Copy and nums2 respectively.\n",
    "        p1 = 0\n",
    "        p2 = 0\n",
    "        \n",
    "        # Compare elements from nums1Copy and nums2 and write the smallest to nums1.\n",
    "        for p in range(n + m):\n",
    "            # We also need to ensure that p1 and p2 aren't over the boundaries\n",
    "            # of their respective arrays.\n",
    "            if p2 >= n or (p1 < m and nums1_copy[p1] <= nums2[p2]):\n",
    "                nums1[p] = nums1_copy[p1] \n",
    "                p1 += 1\n",
    "            else:\n",
    "                nums1[p] = nums2[p2]\n",
    "                p2 += 1"
   ],
   "outputs": [],
   "metadata": {}
  },
  {
   "cell_type": "code",
   "execution_count": 146,
   "source": [
    "# num1=[1, 2, 3, 4, 5]\n",
    "# num2=[]\n",
    "# m=5\n",
    "# n=0\n",
    "\n",
    "num1=[-1,1,0,0,0,0,0,0]\n",
    "m=2\n",
    "num2=[-1,0,1,1,2,3]\n",
    "n=6\n",
    "\n",
    "merge_sorted(num1, m, num2, n)"
   ],
   "outputs": [
    {
     "output_type": "stream",
     "name": "stdout",
     "text": [
      "[-1, 0, 1, 1, 2, 3]\n"
     ]
    }
   ],
   "metadata": {}
  },
  {
   "cell_type": "code",
   "execution_count": 122,
   "source": [
    "num1=[1,2,3,0,0,0]\n",
    "num2=[2,5,6]\n",
    "m=3\n",
    "n=3"
   ],
   "outputs": [],
   "metadata": {}
  },
  {
   "cell_type": "code",
   "execution_count": 19,
   "source": [
    "num1[:3]"
   ],
   "outputs": [
    {
     "output_type": "execute_result",
     "data": {
      "text/plain": [
       "[1, 2, 3]"
      ]
     },
     "metadata": {},
     "execution_count": 19
    }
   ],
   "metadata": {}
  },
  {
   "cell_type": "code",
   "execution_count": 69,
   "source": [
    "num2[2:3]"
   ],
   "outputs": [
    {
     "output_type": "execute_result",
     "data": {
      "text/plain": [
       "[6]"
      ]
     },
     "metadata": {},
     "execution_count": 69
    }
   ],
   "metadata": {}
  },
  {
   "cell_type": "markdown",
   "source": [
    "### Remove Element"
   ],
   "metadata": {}
  },
  {
   "cell_type": "code",
   "execution_count": 168,
   "source": [
    "def remove_num_from_arr(arr, num):\n",
    "    len_arr = len(arr)\n",
    "    i = 0\n",
    "    while i <= len_arr-1:\n",
    "        if arr[i] == num:\n",
    "            arr[i:len_arr-1] = arr[i+1:len_arr]\n",
    "            del arr[-1]\n",
    "            len_arr-=1\n",
    "        else:\n",
    "            i+=1\n",
    "    return len(arr)"
   ],
   "outputs": [],
   "metadata": {}
  },
  {
   "cell_type": "code",
   "execution_count": 169,
   "source": [
    "remove_num_from_arr([2, 2, 3, 4, 5], 2)"
   ],
   "outputs": [
    {
     "output_type": "execute_result",
     "data": {
      "text/plain": [
       "3"
      ]
     },
     "metadata": {},
     "execution_count": 169
    }
   ],
   "metadata": {}
  },
  {
   "cell_type": "markdown",
   "source": [
    "### Deleting Duplicates"
   ],
   "metadata": {}
  },
  {
   "cell_type": "code",
   "execution_count": 38,
   "source": [
    "def remove_duplicates(arr):\n",
    "    len_arr = len(arr)\n",
    "    i = 1\n",
    "    if len(arr)==0:\n",
    "        return\n",
    "    last_element = arr[0]\n",
    "    while i < len_arr:\n",
    "        if arr[i] == last_element:\n",
    "            arr[i:len_arr-1] = arr[i+1:len_arr]\n",
    "            del arr[-1]\n",
    "            len_arr-=1\n",
    "        else:\n",
    "            last_element = arr[i]\n",
    "            i+=1\n",
    "    return len(arr)\n"
   ],
   "outputs": [],
   "metadata": {}
  },
  {
   "cell_type": "code",
   "execution_count": 43,
   "source": [
    "arr = [0,0,11,12]\n",
    "remove_duplicates(arr)"
   ],
   "outputs": [
    {
     "output_type": "stream",
     "name": "stdout",
     "text": [
      "[0, 11, 12]\n"
     ]
    }
   ],
   "metadata": {}
  },
  {
   "cell_type": "markdown",
   "source": [
    "### Check if Double"
   ],
   "metadata": {}
  },
  {
   "cell_type": "code",
   "execution_count": 57,
   "source": [
    "def check_if_double(arr):\n",
    "    doubles = []\n",
    "    counter=0\n",
    "    for i in arr:\n",
    "        if i == 0:\n",
    "            counter+=1\n",
    "    if counter > 1:\n",
    "        return True\n",
    "    for i in arr:\n",
    "        if i%2==0 and i!=0:\n",
    "            doubles.append(i/2)\n",
    "    for i in doubles:\n",
    "        if i in arr:\n",
    "            return True"
   ],
   "outputs": [],
   "metadata": {}
  },
  {
   "cell_type": "code",
   "execution_count": 72,
   "source": [
    "def checkIfExist(arr):\n",
    "\n",
    "    #the rqd double can only be an even number.\n",
    "    #so for an even number check at di[number//2]\n",
    "    di={}\n",
    "    for x in arr:\n",
    "        di[x]=di.get(x,0)+1\n",
    "\n",
    "    for k,v in di.items():\n",
    "        if k!=0 and k%2==0 and di.get(k//2,0)>0:\n",
    "            return True\n",
    "        elif k==0 and di.get(k)>1:\n",
    "            return True\n",
    "    return False"
   ],
   "outputs": [],
   "metadata": {}
  },
  {
   "cell_type": "code",
   "execution_count": 59,
   "source": [
    "check_if_double([0,0,1])"
   ],
   "outputs": [],
   "metadata": {}
  },
  {
   "cell_type": "code",
   "execution_count": 73,
   "source": [
    "checkIfExist([0,0,2,3,5,8])"
   ],
   "outputs": [
    {
     "output_type": "execute_result",
     "data": {
      "text/plain": [
       "True"
      ]
     },
     "metadata": {},
     "execution_count": 73
    }
   ],
   "metadata": {}
  },
  {
   "cell_type": "markdown",
   "source": [
    "### Mountain Array"
   ],
   "metadata": {}
  },
  {
   "cell_type": "code",
   "execution_count": 62,
   "source": [
    "def valid_mountain_array(arr):\n",
    "    max_element = max(arr)\n",
    "    arr_len = len(arr)\n",
    "    \n",
    "    for i in range(arr_len):\n",
    "        if arr[i]==max_element:\n",
    "            ind_max = i\n",
    "            break\n",
    "    \n",
    "    if i == 0:\n",
    "        return False\n",
    "    \n",
    "    min_element = arr[0]\n",
    "    for i in range(1, ind_max):\n",
    "        if arr[i] > min_element:\n",
    "            min_element = arr[i]\n",
    "        else:\n",
    "            return False\n",
    "    \n",
    "    if ind_max == arr_len-1:\n",
    "        return False\n",
    "    \n",
    "    for i in range(ind_max+1, arr_len):\n",
    "        if arr[i] < max_element:\n",
    "            max_element = arr[i]\n",
    "        else:\n",
    "            return False\n",
    "\n",
    "    return True\n",
    "        "
   ],
   "outputs": [],
   "metadata": {}
  },
  {
   "cell_type": "code",
   "execution_count": 63,
   "source": [
    "arr = [0,1,2,1]"
   ],
   "outputs": [],
   "metadata": {}
  },
  {
   "cell_type": "code",
   "execution_count": 64,
   "source": [
    "valid_mountain_array(arr)"
   ],
   "outputs": [
    {
     "output_type": "stream",
     "name": "stdout",
     "text": [
      "1\n",
      "1\n"
     ]
    },
    {
     "output_type": "execute_result",
     "data": {
      "text/plain": [
       "False"
      ]
     },
     "metadata": {},
     "execution_count": 64
    }
   ],
   "metadata": {}
  },
  {
   "cell_type": "markdown",
   "source": [
    "### INPLACE = Replace Elements with Greatest Element on Right Side"
   ],
   "metadata": {}
  },
  {
   "cell_type": "code",
   "execution_count": 67,
   "source": [
    "def greatest_element_right(arr):\n",
    "    if len(arr) == 0:\n",
    "        return\n",
    "    if len(arr) == 1:\n",
    "        return [-1]\n",
    "    \n",
    "    len_arr = len(arr)\n",
    "    \n",
    "    for i in range(len_arr-1):\n",
    "        arr[i] = max(arr[i+1:])\n",
    "    \n",
    "    arr[-1] = -1\n",
    "    return arr"
   ],
   "outputs": [],
   "metadata": {}
  },
  {
   "cell_type": "code",
   "execution_count": 68,
   "source": [
    "arr=[17,18,5,4,6,1]\n",
    "greatest_element_right(arr)"
   ],
   "outputs": [
    {
     "output_type": "stream",
     "name": "stdout",
     "text": [
      "[18, 6, 6, 6, 1, -1]\n"
     ]
    }
   ],
   "metadata": {}
  },
  {
   "cell_type": "markdown",
   "source": [
    "### INPLACE Move Zeros"
   ],
   "metadata": {}
  },
  {
   "cell_type": "code",
   "execution_count": 11,
   "source": [
    "def move_zeros(arr):\n",
    "    len_arr = len(arr)\n",
    "    i = 0\n",
    "    while i < len_arr:\n",
    "        if arr[i] == 0:\n",
    "            arr[i:len_arr-1] = arr[i+1:len_arr]\n",
    "            arr[len_arr-1] = 0\n",
    "            len_arr -= 1\n",
    "        else:\n",
    "            i+=1\n",
    "    return arr\n",
    "    "
   ],
   "outputs": [],
   "metadata": {}
  },
  {
   "cell_type": "code",
   "execution_count": 19,
   "source": [
    "def move_zeros_swap(arr):\n",
    "    len_arr = len(arr)\n",
    "    pos = 0\n",
    "    for i in range(len_arr):\n",
    "        if arr[i] != 0:\n",
    "            arr[pos], arr[i] = arr[i], arr[pos]\n",
    "            pos+=1\n",
    "    print(arr)"
   ],
   "outputs": [],
   "metadata": {}
  },
  {
   "cell_type": "code",
   "execution_count": 12,
   "source": [
    "arr = [0,5,6,0]\n",
    "move_zeros(arr)"
   ],
   "outputs": [
    {
     "output_type": "execute_result",
     "data": {
      "text/plain": [
       "[5, 6, 0, 0]"
      ]
     },
     "metadata": {},
     "execution_count": 12
    }
   ],
   "metadata": {}
  },
  {
   "cell_type": "code",
   "execution_count": 20,
   "source": [
    "move_zeros_swap(arr)"
   ],
   "outputs": [
    {
     "output_type": "stream",
     "name": "stdout",
     "text": [
      "[5, 6, 0, 0]\n"
     ]
    }
   ],
   "metadata": {}
  },
  {
   "cell_type": "markdown",
   "source": [
    "### Sort Array By Parity"
   ],
   "metadata": {}
  },
  {
   "cell_type": "code",
   "execution_count": 14,
   "source": [
    "def sort_by_parity(arr):\n",
    "    len_arr = len(arr)\n",
    "    pos = 0\n",
    "    for i in range(len_arr):\n",
    "        if arr[i] % 2 == 0:\n",
    "            arr[pos], arr[i] = arr[i], arr[pos]\n",
    "            pos+=1"
   ],
   "outputs": [],
   "metadata": {}
  },
  {
   "cell_type": "code",
   "execution_count": 18,
   "source": [
    "sort_by_parity([5,6,7,8,9,12,0])"
   ],
   "outputs": [
    {
     "output_type": "stream",
     "name": "stdout",
     "text": [
      "[6, 8, 12, 0, 9, 7, 5]\n"
     ]
    }
   ],
   "metadata": {}
  },
  {
   "cell_type": "markdown",
   "source": [
    "### Expected Array Checker - Height Checker"
   ],
   "metadata": {}
  },
  {
   "cell_type": "code",
   "execution_count": 9,
   "source": [
    "def expected_array_checker(arr):\n",
    "    len_arr = len(arr)\n",
    "    sorted_arr = sorted(arr)\n",
    "    counter = 0\n",
    "    for i in range(len_arr):\n",
    "        if arr[i] != sorted_arr[i]:\n",
    "            counter+=1\n",
    "    return counter"
   ],
   "outputs": [],
   "metadata": {}
  },
  {
   "cell_type": "code",
   "execution_count": 10,
   "source": [
    "expected_array_checker([3,2,4,0])"
   ],
   "outputs": [
    {
     "output_type": "stream",
     "name": "stdout",
     "text": [
      "3\n"
     ]
    }
   ],
   "metadata": {}
  },
  {
   "cell_type": "markdown",
   "source": [
    "### Max consecutive ones"
   ],
   "metadata": {}
  },
  {
   "cell_type": "code",
   "execution_count": 22,
   "source": [
    "def consecutive_ones(arr):\n",
    "    # zero indices\n",
    "    zeros = []\n",
    "    for i, element in enumerate(arr):\n",
    "        if element == 0:\n",
    "            zeros.append(i)\n",
    "\n",
    "    max_with_flip = 0\n",
    "\n",
    "    for i in zeros:\n",
    "        temp = arr.copy()\n",
    "        temp[i] = 1\n",
    "        \n",
    "        count = 0\n",
    "        result = 0\n",
    "        for i in temp:\n",
    "            if i == 0:\n",
    "                count = 0\n",
    "            else:\n",
    "                count +=1\n",
    "                result = max(result, count)\n",
    "        max_with_flip = max(max_with_flip, result)\n",
    "    return max_with_flip"
   ],
   "outputs": [],
   "metadata": {}
  },
  {
   "cell_type": "code",
   "execution_count": 31,
   "source": [
    "consecutive_ones([1,1,0,1,0,1,0,1,1])"
   ],
   "outputs": [
    {
     "output_type": "execute_result",
     "data": {
      "text/plain": [
       "4"
      ]
     },
     "metadata": {},
     "execution_count": 31
    }
   ],
   "metadata": {}
  },
  {
   "cell_type": "markdown",
   "source": [
    "### Third Max - Doesn't work"
   ],
   "metadata": {}
  },
  {
   "cell_type": "code",
   "execution_count": 41,
   "source": [
    "def third_max(arr):\n",
    "    unique_arr = list(set(arr))\n",
    "    \n",
    "    if len(unique_arr)<3:\n",
    "        return max(unique_arr)\n",
    "    \n",
    "    list_of_max = []\n",
    "    \n",
    "    for i, element in enumerate(unique_arr):\n",
    "        max_element = max(unique_arr)\n",
    "        if element == max_element:\n",
    "            list_of_max.append(element)\n",
    "            unique_arr[i] = 0\n",
    "        if len(list_of_max) == 3:\n",
    "            break\n",
    "    return min(list_of_max)\n",
    "        "
   ],
   "outputs": [],
   "metadata": {}
  },
  {
   "cell_type": "code",
   "execution_count": 42,
   "source": [
    "third_max([4,5,6,3,4,4,2])\n"
   ],
   "outputs": [
    {
     "output_type": "execute_result",
     "data": {
      "text/plain": [
       "6"
      ]
     },
     "metadata": {},
     "execution_count": 42
    }
   ],
   "metadata": {}
  },
  {
   "cell_type": "markdown",
   "source": [
    "###  Find All Numbers Disappeared in an Array"
   ],
   "metadata": {}
  },
  {
   "cell_type": "code",
   "execution_count": 6,
   "source": [
    "def findDisappearedNumbers(arr):\n",
    "    len_arr = len(arr)\n",
    "    \n",
    "    set_all = set([i for i in range(1, len_arr+1)])\n",
    "    set_arr = set(arr)\n",
    "    return list(set_all - set_arr)"
   ],
   "outputs": [],
   "metadata": {}
  },
  {
   "cell_type": "code",
   "execution_count": null,
   "source": [
    "def find_missing(arr):\n",
    "    for x in arr:\n",
    "        di[x]=di.get(x,0)+1\n",
    "\n",
    "    for i in range"
   ],
   "outputs": [],
   "metadata": {}
  },
  {
   "cell_type": "code",
   "execution_count": 8,
   "source": [
    "findDisappearedNumbers([1,2,1,5,3])"
   ],
   "outputs": [
    {
     "output_type": "execute_result",
     "data": {
      "text/plain": [
       "[4]"
      ]
     },
     "metadata": {},
     "execution_count": 8
    }
   ],
   "metadata": {}
  },
  {
   "cell_type": "code",
   "execution_count": 11,
   "source": [
    "[1,2,1,5,3]"
   ],
   "outputs": [
    {
     "output_type": "execute_result",
     "data": {
      "text/plain": [
       "[1, 2, 1, 5, 3]"
      ]
     },
     "metadata": {},
     "execution_count": 11
    }
   ],
   "metadata": {}
  },
  {
   "cell_type": "code",
   "execution_count": null,
   "source": [
    "for i in range(len([1,2,1,5,3])):\n",
    "    "
   ],
   "outputs": [],
   "metadata": {}
  },
  {
   "cell_type": "markdown",
   "source": [
    "# Linked Lists"
   ],
   "metadata": {}
  },
  {
   "cell_type": "markdown",
   "source": [
    "### Design your implementation of the linked list. You can choose to use a singly or doubly linked list.\n"
   ],
   "metadata": {}
  },
  {
   "cell_type": "code",
   "execution_count": 1,
   "source": [
    "class LinkedNode:\n",
    "    \n",
    "    def __init__(self, val=0, next_node=None):\n",
    "        self.val = val\n",
    "        self.next_node = next_node"
   ],
   "outputs": [],
   "metadata": {}
  },
  {
   "cell_type": "code",
   "execution_count": 2,
   "source": [
    "class LinkedNode:\n",
    "    \n",
    "    def __init__(self, val=0, next_node=None):\n",
    "        self.val = val\n",
    "        self.next_node = next_node\n",
    "\n",
    "class MyLinkedList:\n",
    "\n",
    "    def __init__(self):\n",
    "        \"\"\"\n",
    "        Initialize your data structure here.\n",
    "        \"\"\"\n",
    "        self.length = 0\n",
    "        self.head = LinkedNode()\n",
    "    \n",
    "\n",
    "    def get(self, index: int) -> int:\n",
    "        \"\"\"\n",
    "        Get the value of the index-th node in the linked list. If the index is invalid, return -1.\n",
    "        \"\"\"\n",
    "        if index >= self.length:\n",
    "            return -1\n",
    "        element = self.head # Starting from the terminal\n",
    "        for i in range(index+1):\n",
    "            element = element.next_node\n",
    "        return element.val\n",
    "        \n",
    "\n",
    "    def addAtHead(self, val: int) -> None:\n",
    "        \"\"\"\n",
    "        Add a node of value val before the first element of the linked list. After the insertion, the new node will be the first node of the linked list.\n",
    "        \"\"\"\n",
    "        element = self.head\n",
    "        new_node = LinkedNode(val, element.next_node)\n",
    "        element.next_node = new_node\n",
    "        self.length += 1\n",
    "        \n",
    "\n",
    "    def addAtTail(self, val: int) -> None:\n",
    "        \"\"\"\n",
    "        Append a node of value val to the last element of the linked list.\n",
    "        \"\"\"\n",
    "        element = self.head\n",
    "        for i in range(self.length):\n",
    "            element = element.next_node\n",
    "        new_node = LinkedNode(val, None)\n",
    "        \n",
    "        assert element.next_node == None, \"Last Node is not None\"\n",
    "        element.next_node = new_node\n",
    "        self.length += 1\n",
    "        \n",
    "\n",
    "    def addAtIndex(self, index: int, val: int) -> None:\n",
    "        \"\"\"\n",
    "        Add a node of value val before the index-th node in the linked list. If index equals to the length of linked list, the node will be appended to the end of linked list. If index is greater than the length, the node will not be inserted.\n",
    "        \"\"\"\n",
    "        if index > self.length:\n",
    "#             print(\"Out of Index error\")\n",
    "            return\n",
    "        \n",
    "#         if index == self.length:\n",
    "#             return self.addAtTail(val)\n",
    "            \n",
    "#         if index == 0:\n",
    "#             return self.addAtHead(val)\n",
    "        \n",
    "        element = self.head\n",
    "        for i in range(index):\n",
    "            element = element.next_node\n",
    "        new_node = LinkedNode(val, element.next_node)\n",
    "        element.next_node = new_node\n",
    "        self.length += 1\n",
    "        \n",
    "\n",
    "    def deleteAtIndex(self, index: int) -> None:\n",
    "        \"\"\"\n",
    "        Delete the index-th node in the linked list, if the index is valid.\n",
    "        \"\"\"\n",
    "        if not index < self.length:\n",
    "            print(\"Out of Index error\")\n",
    "            return\n",
    "\n",
    "        element = self.head\n",
    "        for i in range(index):\n",
    "            element = element.next_node\n",
    "        element.next_node = element.next_node.next_node\n",
    "        self.length -= 1\n",
    "        \n",
    "    \n",
    "    def generate_list(self):\n",
    "        element = self.head\n",
    "        element_list = []\n",
    "        for i in range(self.length):\n",
    "            element = element.next_node\n",
    "            element_list.append(element.val)\n",
    "        print(element_list)\n",
    "        "
   ],
   "outputs": [],
   "metadata": {}
  },
  {
   "cell_type": "code",
   "execution_count": 4,
   "source": [
    "test = MyLinkedList()\n",
    "test.addAtHead(1)\n",
    "test.generate_list()\n",
    "test.addAtTail(3)\n",
    "test.generate_list()\n",
    "test.addAtIndex(1, 2)\n",
    "test.generate_list()\n",
    "print(test.get(1))\n",
    "test.deleteAtIndex(1)\n",
    "print(test.get(1))\n"
   ],
   "outputs": [
    {
     "output_type": "stream",
     "name": "stdout",
     "text": [
      "[1]\n",
      "[1, 3]\n",
      "[1, 2, 3]\n",
      "2\n",
      "3\n"
     ]
    }
   ],
   "metadata": {}
  },
  {
   "cell_type": "code",
   "execution_count": 15,
   "source": [
    "test.generate_list()"
   ],
   "outputs": [
    {
     "output_type": "stream",
     "name": "stdout",
     "text": [
      "[1, 3]\n"
     ]
    }
   ],
   "metadata": {}
  },
  {
   "cell_type": "code",
   "execution_count": 20,
   "source": [
    "test = MyLinkedList()\n",
    "test.addAtHead(-4)\n",
    "test.addAtHead(0)\n",
    "test.addAtHead(2)\n",
    "test.addAtHead(3)\n",
    "test.generate_list()"
   ],
   "outputs": [
    {
     "output_type": "stream",
     "name": "stdout",
     "text": [
      "[3, 2, 0, -4]\n"
     ]
    }
   ],
   "metadata": {}
  },
  {
   "cell_type": "code",
   "execution_count": 21,
   "source": [
    "# Definition for singly-linked list.\n",
    "# class ListNode:\n",
    "#     def __init__(self, x):\n",
    "#         self.val = x\n",
    "#         self.next = None\n",
    "\n",
    "class Solution:\n",
    "    def hasCycle(self, head: ListNode) -> bool:        \n",
    "        if (head == None ) or (head.next == None):\n",
    "            return False\n",
    "        \n",
    "        first_pointer = head\n",
    "        second_pointer = head.next\n",
    "        while (second_pointer != None) and (second_pointer.next != None):\n",
    "            first_pointer = first_pointer.next\n",
    "            second_pointer = second_pointer.next.next\n",
    "            \n",
    "            if first_pointer == second_pointer:\n",
    "                return True\n",
    "            \n",
    "        return False"
   ],
   "outputs": [],
   "metadata": {}
  },
  {
   "cell_type": "code",
   "execution_count": 22,
   "source": [
    "hasCycle(test.head)"
   ],
   "outputs": [
    {
     "output_type": "execute_result",
     "data": {
      "text/plain": [
       "0"
      ]
     },
     "metadata": {},
     "execution_count": 22
    }
   ],
   "metadata": {}
  },
  {
   "cell_type": "markdown",
   "source": [
    "###  Intersection of Two Linked Lists"
   ],
   "metadata": {}
  },
  {
   "cell_type": "code",
   "execution_count": 1,
   "source": [
    "class ListNode:\n",
    "    def __init__(self, x):\n",
    "        self.val = x\n",
    "        self.next = None\n",
    "\n",
    "def getIntersectionNode(headA: ListNode, headB: ListNode) -> ListNode:\n",
    "    pA = headA\n",
    "    pB = headB\n",
    "    \n",
    "    while pA != pB:\n",
    "        pA = headB if pA == None else pA.next\n",
    "        pB = headA if pB == None else pB.next\n",
    "    \n",
    "    return pA"
   ],
   "outputs": [],
   "metadata": {}
  },
  {
   "cell_type": "markdown",
   "source": [
    "### Remove Nth Node From End of List"
   ],
   "metadata": {}
  },
  {
   "cell_type": "code",
   "execution_count": null,
   "source": [
    "def removeNthFromEnd(head: Optional[ListNode], n: int):\n",
    "    pA = head\n",
    "    pB = head\n",
    "    \n",
    "    i = 0\n",
    "    while pB != None:\n",
    "        if i>n:\n",
    "            pA = pA.next\n",
    "        pB = pB.next\n",
    "        i+=1\n",
    "    \n",
    "    pA.next = pA.next.next\n",
    "    "
   ],
   "outputs": [],
   "metadata": {}
  },
  {
   "cell_type": "code",
   "execution_count": null,
   "source": [
    "def removeNthFromEnd(self, head, n):\n",
    "        size = 1\n",
    "        cur = p = head\n",
    "        while cur.next:\n",
    "            size += 1\n",
    "            cur = cur.next\n",
    "            if size > n + 1:\n",
    "                p = p.next\n",
    "        if size == n:\n",
    "            return head.next\n",
    "        else:\n",
    "            p.next = p.next.next\n",
    "            return head"
   ],
   "outputs": [],
   "metadata": {}
  },
  {
   "cell_type": "markdown",
   "source": [
    "test = MyLinkedList()\n",
    "test.addAtHead(1)\n",
    "test.generate_list()\n",
    "test.addAtTail(3)\n",
    "test.generate_list()\n",
    "test.addAtIndex(1, 2)\n",
    "test.generate_list()\n",
    "print(test.get(1))\n",
    "test.deleteAtIndex(1)\n",
    "print(test.get(1))\n",
    "### Reverse Linked List"
   ],
   "metadata": {}
  },
  {
   "cell_type": "code",
   "execution_count": 25,
   "source": [
    "class LinkedNode:\n",
    "    \n",
    "    def __init__(self, val=0, next_node=None):\n",
    "        self.val = val\n",
    "        self.next_node = next_node\n",
    "\n",
    "class MyLinkedList:\n",
    "\n",
    "    def __init__(self):\n",
    "        \"\"\"\n",
    "        Initialize your data structure here.\n",
    "        \"\"\"\n",
    "        self.length = 0\n",
    "        self.head = LinkedNode()\n",
    "    \n",
    "\n",
    "    def get(self, index: int) -> int:\n",
    "        \"\"\"\n",
    "        Get the value of the index-th node in the linked list. If the index is invalid, return -1.\n",
    "        \"\"\"\n",
    "        if index >= self.length:\n",
    "            return -1\n",
    "        element = self.head # Starting from the terminal\n",
    "        for i in range(index+1):\n",
    "            element = element.next_node\n",
    "        return element.val\n",
    "        \n",
    "\n",
    "    def addAtHead(self, val: int) -> None:\n",
    "        \"\"\"\n",
    "        Add a node of value val before the first element of the linked list. After the insertion, the new node will be the first node of the linked list.\n",
    "        \"\"\"\n",
    "        element = self.head\n",
    "        new_node = LinkedNode(val, element.next_node)\n",
    "        element.next_node = new_node\n",
    "        self.length += 1\n",
    "        \n",
    "\n",
    "    def addAtTail(self, val: int) -> None:\n",
    "        \"\"\"\n",
    "        Append a node of value val to the last element of the linked list.\n",
    "        \"\"\"\n",
    "        element = self.head\n",
    "        for i in range(self.length):\n",
    "            element = element.next_node\n",
    "        new_node = LinkedNode(val, None)\n",
    "        \n",
    "        assert element.next_node == None, \"Last Node is not None\"\n",
    "        element.next_node = new_node\n",
    "        self.length += 1\n",
    "        \n",
    "\n",
    "    def addAtIndex(self, index: int, val: int) -> None:\n",
    "        \"\"\"\n",
    "        Add a node of value val before the index-th node in the linked list. If index equals to the length of linked list, the node will be appended to the end of linked list. If index is greater than the length, the node will not be inserted.\n",
    "        \"\"\"\n",
    "        if index > self.length:\n",
    "#             print(\"Out of Index error\")\n",
    "            return\n",
    "        \n",
    "#         if index == self.length:\n",
    "#             return self.addAtTail(val)\n",
    "            \n",
    "#         if index == 0:\n",
    "#             return self.addAtHead(val)\n",
    "        \n",
    "        element = self.head\n",
    "        for i in range(index):\n",
    "            element = element.next_node\n",
    "        new_node = LinkedNode(val, element.next_node)\n",
    "        element.next_node = new_node\n",
    "        self.length += 1\n",
    "        \n",
    "\n",
    "    def deleteAtIndex(self, index: int) -> None:\n",
    "        \"\"\"\n",
    "        Delete the index-th node in the linked list, if the index is valid.\n",
    "        \"\"\"\n",
    "        if not index < self.length:\n",
    "            print(\"Out of Index error\")\n",
    "            return\n",
    "\n",
    "        element = self.head\n",
    "        for i in range(index):\n",
    "            element = element.next_node\n",
    "        element.next_node = element.next_node.next_node\n",
    "        self.length -= 1\n",
    "        \n",
    "    \n",
    "    def generate_list(self):\n",
    "        element = self.head\n",
    "        element_list = []\n",
    "        for i in range(self.length):\n",
    "            element = element.next_node\n",
    "            element_list.append(element.val)\n",
    "        print(element_list)\n",
    "        \n",
    "\n",
    "test = MyLinkedList()\n",
    "test.addAtHead(5)\n",
    "test.addAtHead(4)\n",
    "test.addAtHead(3)\n",
    "test.addAtHead(2)\n",
    "test.addAtHead(1)\n",
    "test.generate_list()"
   ],
   "outputs": [
    {
     "output_type": "stream",
     "name": "stdout",
     "text": [
      "[1, 2, 3, 4, 5]\n"
     ]
    }
   ],
   "metadata": {}
  },
  {
   "cell_type": "code",
   "execution_count": 23,
   "source": [
    "test.head.next_node.val"
   ],
   "outputs": [
    {
     "output_type": "execute_result",
     "data": {
      "text/plain": [
       "1"
      ]
     },
     "metadata": {},
     "execution_count": 23
    }
   ],
   "metadata": {}
  },
  {
   "cell_type": "code",
   "execution_count": 33,
   "source": [
    "def reverseLinkedList(head):\n",
    "    curr, prev = head, None\n",
    "    while curr:\n",
    "        nex = curr.next\n",
    "        curr.next = prev\n",
    "        prev = curr\n",
    "        curr = nex\n",
    "    return prev"
   ],
   "outputs": [],
   "metadata": {}
  },
  {
   "cell_type": "code",
   "execution_count": 1,
   "source": [
    "def reverseList_v1(self, head):  # Recursive\n",
    "        \"\"\"\n",
    "        :type head: ListNode\n",
    "        :rtype: ListNode\n",
    "        \"\"\"     \n",
    "        if not head or not head.next:\n",
    "            return head\n",
    "        p = self.reverseList(head.next)\n",
    "        head.next.next = head\n",
    "        head.next = None\n",
    "        return p"
   ],
   "outputs": [],
   "metadata": {}
  },
  {
   "cell_type": "markdown",
   "source": [
    "### Remove Linked List Elements"
   ],
   "metadata": {}
  },
  {
   "cell_type": "code",
   "execution_count": null,
   "source": [
    "def remove_list_element(head, val):\n",
    "    while head.next:\n",
    "        if head.next == val:\n",
    "            if head.next.next:\n",
    "                head.next = head.next.next\n",
    "            else:\n",
    "                head.next = None\n",
    "        head = head.next\n",
    "    return head"
   ],
   "outputs": [],
   "metadata": {}
  },
  {
   "cell_type": "markdown",
   "source": [
    "### Odd Even Indices Ordered List"
   ],
   "metadata": {}
  },
  {
   "cell_type": "code",
   "execution_count": null,
   "source": [
    "def oddEvenList(head):\n",
    "    if not head or head.next:\n",
    "        return head\n",
    "    \n",
    "    sentinel_odd = LinkedNode()\n",
    "    sentinel_odd.next = head\n",
    "    \n",
    "    sentinel_even = LinkedNode()\n",
    "    sentinel_even.next = head.next\n",
    "    \n",
    "    p_odd = sentinel_odd.next\n",
    "    p_even = sentinel_even.next\n",
    "    \n",
    "    while p_odd.next and p_odd.next.next:\n",
    "        p_even.next = p_odd.next\n",
    "        p_odd.next = p_odd.next.next\n",
    "        \n",
    "    p_odd.next = sentinel_even.next.next\n",
    "    \n",
    "    return p_odd\n",
    "        "
   ],
   "outputs": [],
   "metadata": {}
  },
  {
   "cell_type": "code",
   "execution_count": null,
   "source": [
    "def oddEvenList(self, head):\n",
    "    odds = ListNode(0)\n",
    "    evens = ListNode(0)\n",
    "    oddsHead = odds\n",
    "    evensHead = evens\n",
    "    isOdd = True\n",
    "    while head:\n",
    "        if isOdd:\n",
    "            odds.next = head\n",
    "            odds = odds.next\n",
    "        else:\n",
    "            evens.next = head\n",
    "            evens = evens.next\n",
    "        isOdd = not isOdd\n",
    "        head = head.next\n",
    "    evens.next = None\n",
    "    odds.next = evensHead.next\n",
    "    return oddsHead.next"
   ],
   "outputs": [],
   "metadata": {}
  },
  {
   "cell_type": "markdown",
   "source": [
    "### Doubly Linked List"
   ],
   "metadata": {}
  },
  {
   "cell_type": "code",
   "execution_count": 1,
   "source": [
    "class LinkedNode:\n",
    "    \n",
    "    def __init__(self, val=0, next=None, prev=None):\n",
    "        self.val = val\n",
    "        self.next = next\n",
    "        self.prev = prev\n",
    "\n",
    "class MyLinkedList:\n",
    "\n",
    "    def __init__(self):\n",
    "        \"\"\"\n",
    "        Initialize your data structure here.\n",
    "        \"\"\"\n",
    "        self.length = 0\n",
    "        self.head = LinkedNode()\n",
    "    \n",
    "\n",
    "    def get(self, index: int) -> int:\n",
    "        \"\"\"\n",
    "        Get the value of the index-th node in the linked list. If the index is invalid, return -1.\n",
    "        \"\"\"\n",
    "        if (index >= self.length) or (index<0):\n",
    "            return -1\n",
    "        element = self.head # Starting from the terminal\n",
    "        for i in range(index+1):\n",
    "            element = element.next\n",
    "        return element.val\n",
    "        \n",
    "\n",
    "    def addAtHead(self, val: int) -> None:\n",
    "        \"\"\"\n",
    "        Add a node of value val before the first element of the linked list. After the insertion, the new node will be the first node of the linked list.\n",
    "        \"\"\"\n",
    "        element = self.head\n",
    "        new_node = LinkedNode(val, element.next)\n",
    "        element.next = new_node\n",
    "        self.length += 1\n",
    "        \n",
    "\n",
    "    def addAtTail(self, val: int) -> None:\n",
    "        \"\"\"\n",
    "        Append a node of value val to the last element of the linked list.\n",
    "        \"\"\"\n",
    "        element = self.head\n",
    "        for i in range(self.length):\n",
    "            element = element.next\n",
    "        new_node = LinkedNode(val, None)\n",
    "        \n",
    "        assert element.next == None, \"Last Node is not None\"\n",
    "        element.next = new_node\n",
    "        self.length += 1\n",
    "        \n",
    "\n",
    "    def addAtIndex(self, index: int, val: int) -> None:\n",
    "        \"\"\"\n",
    "        Add a node of value val before the index-th node in the linked list. If index equals to the length of linked list, the node will be appended to the end of linked list. If index is greater than the length, the node will not be inserted.\n",
    "        \"\"\"\n",
    "        if index > self.length:\n",
    "            # print(\"Out of Index error\")\n",
    "            return\n",
    "        \n",
    "        if index == self.length:\n",
    "            return self.addAtTail(val)\n",
    "            \n",
    "        if index == 0:\n",
    "            return self.addAtHead(val)\n",
    "        \n",
    "        element = self.head\n",
    "        for i in range(index):\n",
    "            element = element.next\n",
    "        new_node = LinkedNode(val, element.next)\n",
    "        element.next = new_node\n",
    "        self.length += 1\n",
    "        \n",
    "\n",
    "    def deleteAtIndex(self, index: int) -> None:\n",
    "        \"\"\"\n",
    "        Delete the index-th node in the linked list, if the index is valid.\n",
    "        \"\"\"\n",
    "        if not index < self.length:\n",
    "            # print(\"Out of Index error\")\n",
    "            return\n",
    "\n",
    "        element = self.head\n",
    "        for i in range(index):\n",
    "            element = element.next\n",
    "        element.next = element.next.next\n",
    "        self.length -= 1\n",
    "        \n",
    "    \n",
    "    def generate_list(self):\n",
    "        element = self.head\n",
    "        element_list = []\n",
    "        for i in range(self.length):\n",
    "            element = element.next\n",
    "            element_list.append(element.val)\n",
    "        print(element_list)\n",
    "        "
   ],
   "outputs": [],
   "metadata": {}
  },
  {
   "cell_type": "code",
   "execution_count": 2,
   "source": [
    "test = MyLinkedList()\n",
    "test.addAtHead(5)\n",
    "test.addAtHead(4)\n",
    "test.addAtHead(3)\n",
    "test.addAtHead(2)\n",
    "test.addAtHead(1)\n",
    "test.generate_list()"
   ],
   "outputs": [
    {
     "output_type": "stream",
     "name": "stdout",
     "text": [
      "[1, 2, 3, 4, 5]\n"
     ]
    }
   ],
   "metadata": {}
  },
  {
   "cell_type": "markdown",
   "source": [
    "# Trees"
   ],
   "metadata": {}
  },
  {
   "cell_type": "code",
   "execution_count": null,
   "source": [
    "class TreeNode:\n",
    "    def __init__(self, val=0, left=None, right=None):\n",
    "        self.val = val\n",
    "        self.left = left\n",
    "        self.right = right\n",
    "\n",
    "def preorderTraversal(root: Optional[TreeNode]) -> List[int]:\n",
    "    \n",
    "        "
   ],
   "outputs": [],
   "metadata": {}
  }
 ],
 "metadata": {
  "kernelspec": {
   "display_name": "Python 3",
   "language": "python",
   "name": "python3"
  },
  "language_info": {
   "codemirror_mode": {
    "name": "ipython",
    "version": 3
   },
   "file_extension": ".py",
   "mimetype": "text/x-python",
   "name": "python",
   "nbconvert_exporter": "python",
   "pygments_lexer": "ipython3",
   "version": "3.8.5"
  }
 },
 "nbformat": 4,
 "nbformat_minor": 5
}