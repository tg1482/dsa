{
 "cells": [
  {
   "cell_type": "markdown",
   "id": "d1c9871d-b3c2-4c63-9f40-9f267dbf7c6d",
   "metadata": {},
   "source": [
    "# Trees"
   ]
  },
  {
   "cell_type": "markdown",
   "id": "f51f7dc4-0181-49b5-acd6-9b6f985dc2a3",
   "metadata": {},
   "source": [
    "### Pre Order traverse"
   ]
  },
  {
   "cell_type": "code",
   "execution_count": null,
   "id": "808d8016-7855-462f-8148-fef4be1801e1",
   "metadata": {},
   "outputs": [],
   "source": [
    "class TreeNode:\n",
    "    def __init__(self, val=0, left=None, right=None):\n",
    "        self.val = val\n",
    "        self.left = left\n",
    "        self.right = right\n",
    "\n",
    "def preorderTraversal(self, root: Optional[TreeNode]) -> List[int]:\n",
    "\n",
    "    # Recursive\n",
    "\n",
    "#         if root == [] or root == None:\n",
    "#             return\n",
    "\n",
    "#         order = [root.val]\n",
    "\n",
    "#         # base case\n",
    "#         if not root.left and not root.right:\n",
    "#             return [root.val]\n",
    "\n",
    "#         if root.left:\n",
    "#             order += self.preorderTraversal(root.left)\n",
    "#         if root.right:\n",
    "#             order += self.preorderTraversal(root.right)\n",
    "\n",
    "#         return order\n",
    "\n",
    "    # Iterative\n",
    "\n",
    "    if root == [] or root == None:\n",
    "        return\n",
    "\n",
    "    stack = [root]\n",
    "    order = []\n",
    "    while stack:\n",
    "        node = stack.pop()\n",
    "        order.append(node.val)\n",
    "        if node.right:\n",
    "            stack.append(node.right)\n",
    "        if node.left:\n",
    "            stack.append(node.left)\n",
    "    return order\n",
    "    "
   ]
  },
  {
   "cell_type": "markdown",
   "id": "eb6d7943-ea76-4d34-9174-94594977f5cf",
   "metadata": {},
   "source": [
    "### Inplace traverse"
   ]
  },
  {
   "cell_type": "code",
   "execution_count": 4,
   "id": "255e7c74-6e89-4cef-87dd-57c21113dbf8",
   "metadata": {},
   "outputs": [],
   "source": [
    "def inorderTraversal(root) -> int:\n",
    "#     if root == [] or root == None:\n",
    "#         return\n",
    "#     # stack = [root, root.left] if root.left else [root]\n",
    "#     stack = [root]\n",
    "#     visited = []\n",
    "#     order = []\n",
    "#     while stack:\n",
    "#         node = stack.pop()\n",
    "#         if node.left and node not in visited:\n",
    "#             stack.append(node)\n",
    "#             stack.append(node.left)\n",
    "#             visited.append(node)\n",
    "#         elif node in visited:\n",
    "#             order.append(node.val)\n",
    "#             if node.right:\n",
    "#                 stack.append(node.right)\n",
    "#         elif node.right:\n",
    "#             order.append(node.val)\n",
    "#             stack.append(node.right)\n",
    "#         else:\n",
    "#             order.append(node.val)\n",
    "#     return order\n",
    "\n",
    "    stack = []\n",
    "    current = root\n",
    "    order = []\n",
    "\n",
    "    while current or stack:\n",
    "\n",
    "        while current:\n",
    "            stack.append(current)\n",
    "            current = current.left\n",
    "\n",
    "        current = stack.pop()\n",
    "        order.append(current.val)\n",
    "        current = current.right\n",
    "\n",
    "    return order\n"
   ]
  },
  {
   "cell_type": "markdown",
   "id": "2432efc4-7ddc-4107-a9d2-8d70b047b409",
   "metadata": {},
   "source": [
    "### Post Traverse"
   ]
  },
  {
   "cell_type": "code",
   "execution_count": null,
   "id": "889de535-ab77-42dd-85c6-2407a20261aa",
   "metadata": {},
   "outputs": [],
   "source": [
    "def postTraversal(root):\n",
    "    if root == [] or root == None:\n",
    "        return\n",
    "    stack = [root]\n",
    "    order = []\n",
    "    while stack:\n",
    "        node = stack.pop()\n",
    "        order.insert(0, node.val)\n",
    "        if node.left:\n",
    "            stack.append(node.left)\n",
    "        if node.right:\n",
    "            stack.append(node.right)\n",
    "    return order"
   ]
  },
  {
   "cell_type": "markdown",
   "id": "22f8119d-9cd5-4438-883d-8ee70747af9f",
   "metadata": {},
   "source": [
    "### Binary Tree Level Order Traversal"
   ]
  },
  {
   "cell_type": "code",
   "execution_count": null,
   "id": "072794a6-57d6-4008-af1c-936c623f4474",
   "metadata": {},
   "outputs": [],
   "source": [
    "def levelOrder(root):\n",
    "    if not root:\n",
    "        return\n",
    "    order = []\n",
    "    list_level = [root]\n",
    "\n",
    "    while list_level:\n",
    "        current_level = []\n",
    "        current_level_order = []\n",
    "        for element in list_level:\n",
    "            current_level_order.append(element.val)\n",
    "            if element.left:\n",
    "                current_level.append(element.left)\n",
    "            if element.right:\n",
    "                current_level.append(element.right)\n",
    "        list_level = current_level\n",
    "        order.append(current_level_order)\n",
    "    return order\n"
   ]
  },
  {
   "cell_type": "markdown",
   "id": "80887bdc-f9a7-43b8-8a79-4185ca97f308",
   "metadata": {},
   "source": [
    "### MaxDepth - Top Down"
   ]
  },
  {
   "cell_type": "code",
   "execution_count": null,
   "id": "c14079a3-a418-4488-9f20-04e526ac2945",
   "metadata": {},
   "outputs": [],
   "source": [
    "# Top Down\n",
    "def maxDepth(self, root: Optional[TreeNode]) -> int:\n",
    "    self.answer = 0\n",
    "    def f(root, depth=1):\n",
    "        if (not root.left) and (not root.right):\n",
    "            self.answer = max(self.answer, depth) \n",
    "        if root.left: f(root.left, depth+1)\n",
    "        if root.right: f(root.right, depth+1)\n",
    "    f(root, 1)\n",
    "    return self.answer"
   ]
  },
  {
   "cell_type": "markdown",
   "id": "b6e827d4-d135-4422-9c38-eab89672f816",
   "metadata": {},
   "source": [
    "### MaxDepth - Bottom Up"
   ]
  },
  {
   "cell_type": "code",
   "execution_count": null,
   "id": "6213c11f-f87b-419d-b6ba-5f46fb8cdabe",
   "metadata": {},
   "outputs": [],
   "source": [
    "def max_depth(root):\n",
    "    if not root:\n",
    "        return 0\n",
    "    left_val, right_val = 0, 0\n",
    "    if root.left:\n",
    "        left_val = self.maxDepth(root.left)\n",
    "    if root.right:\n",
    "        right_val = self.maxDepth(root.right)\n",
    "    return max(left_val, right_val) + 1"
   ]
  },
  {
   "cell_type": "markdown",
   "id": "ef1ce457-768d-42c2-856f-4e5aaed3651b",
   "metadata": {},
   "source": [
    "### Count Univalue Subtrees"
   ]
  },
  {
   "cell_type": "code",
   "execution_count": null,
   "id": "0943b5ce-ec61-4e70-a4eb-019d159db7b1",
   "metadata": {},
   "outputs": [],
   "source": [
    "def countUnivalue(root):\n",
    "    \n",
    "    count = [0]\n",
    "    \n",
    "    def check_subtree(root, count):\n",
    "        if not root:\n",
    "            return True\n",
    "\n",
    "        bool_left = check_subtree(root.left, count)\n",
    "        bool_right = check_subtree(root.right, count)\n",
    "        \n",
    "        if bool_left == False or bool_right == False:\n",
    "            return False\n",
    "        if bool_left == False and root.val != root.left.val:\n",
    "            return False\n",
    "        if bool_right == False and root.val != root.right.val:\n",
    "            return False\n",
    "        \n",
    "        count[0] += 1\n",
    "        return True\n",
    "    \n",
    "    check_subtree(root, count)\n",
    "    \n",
    "    return count[0]\n"
   ]
  }
 ],
 "metadata": {
  "kernelspec": {
   "display_name": "Python 3",
   "language": "python",
   "name": "python3"
  },
  "language_info": {
   "codemirror_mode": {
    "name": "ipython",
    "version": 3
   },
   "file_extension": ".py",
   "mimetype": "text/x-python",
   "name": "python",
   "nbconvert_exporter": "python",
   "pygments_lexer": "ipython3",
   "version": "3.8.5"
  }
 },
 "nbformat": 4,
 "nbformat_minor": 5
}
